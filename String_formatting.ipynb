{
 "cells": [
  {
   "cell_type": "markdown",
   "metadata": {
    "slideshow": {
     "slide_type": "slide"
    }
   },
   "source": [
    "# String Formatting\n",
    "___________________\n",
    "Many ways to do the same thing-*ish*"
   ]
  },
  {
   "cell_type": "markdown",
   "metadata": {
    "slideshow": {
     "slide_type": "subslide"
    }
   },
   "source": [
    "## Ye olde style: `printf`"
   ]
  },
  {
   "cell_type": "markdown",
   "metadata": {},
   "source": [
    "While string methods are many, ***string operations*** are few"
   ]
  },
  {
   "cell_type": "code",
   "execution_count": null,
   "metadata": {
    "hidePrompt": true
   },
   "outputs": [],
   "source": [
    "# Concatenation\n",
    "a = 'Hello'\n",
    "b = 'world'\n",
    "a + b"
   ]
  },
  {
   "cell_type": "markdown",
   "metadata": {
    "slideshow": {
     "slide_type": "subslide"
    }
   },
   "source": [
    "Making simple strings with concatenation makes sense, but making complete statements, log entries, or complex outputs is draining on the coder"
   ]
  },
  {
   "cell_type": "code",
   "execution_count": null,
   "metadata": {
    "hidePrompt": true,
    "scrolled": true,
    "slideshow": {
     "slide_type": "fragment"
    }
   },
   "outputs": [],
   "source": [
    "fName = 'Marcus'\n",
    "job = 'GSI'\n",
    "age = 32\n",
    "greeting = 'Hello, my name is ' + fName + ', and I am ' + str(age) + ''' years old\n",
    " and currently working as a ''' + job\n",
    "greeting.replace('\\n', '')"
   ]
  },
  {
   "cell_type": "markdown",
   "metadata": {
    "slideshow": {
     "slide_type": "subslide"
    }
   },
   "source": [
    "Therefore, let's see what else is out there"
   ]
  },
  {
   "cell_type": "code",
   "execution_count": null,
   "metadata": {
    "hidePrompt": true,
    "slideshow": {
     "slide_type": "subslide"
    }
   },
   "outputs": [],
   "source": [
    "# Multiplicity\n",
    "a * 9"
   ]
  },
  {
   "cell_type": "code",
   "execution_count": null,
   "metadata": {
    "hidePrompt": true,
    "slideshow": {
     "slide_type": "subslide"
    }
   },
   "outputs": [],
   "source": [
    "# What about difference?\n",
    "a - b"
   ]
  },
  {
   "cell_type": "code",
   "execution_count": null,
   "metadata": {
    "hidePrompt": true,
    "slideshow": {
     "slide_type": "subslide"
    }
   },
   "outputs": [],
   "source": [
    "a / b"
   ]
  },
  {
   "cell_type": "markdown",
   "metadata": {
    "slideshow": {
     "slide_type": "subslide"
    }
   },
   "source": [
    "Not to be particularly rigorous, but what about `modulo` math?"
   ]
  },
  {
   "cell_type": "code",
   "execution_count": null,
   "metadata": {
    "hidePrompt": true,
    "slideshow": {
     "slide_type": "-"
    }
   },
   "outputs": [],
   "source": [
    "a % b"
   ]
  },
  {
   "cell_type": "markdown",
   "metadata": {
    "hidePrompt": true,
    "slideshow": {
     "slide_type": "fragment"
    }
   },
   "source": [
    "That's different...</br>\n",
    "The modulo (`%`) is a unique operator when used on strings. It is called a *formatting* or *interpolation* operator, and its usage is a little unique."
   ]
  },
  {
   "cell_type": "markdown",
   "metadata": {
    "slideshow": {
     "slide_type": "slide"
    }
   },
   "source": [
    "## the syntax:"
   ]
  },
  {
   "cell_type": "code",
   "execution_count": null,
   "metadata": {
    "hidePrompt": true
   },
   "outputs": [],
   "source": [
    "'some string with %s' % ('modulos')"
   ]
  },
  {
   "cell_type": "markdown",
   "metadata": {
    "slideshow": {
     "slide_type": "subslide"
    }
   },
   "source": [
    "The biggest issue with `%` string formatting is that it requires the user to *declare* their types before hand"
   ]
  },
  {
   "cell_type": "code",
   "execution_count": null,
   "metadata": {
    "hidePrompt": true,
    "slideshow": {
     "slide_type": "fragment"
    }
   },
   "outputs": [],
   "source": [
    "'in order to maintain air-speed velocity, a %s needs to beat its wings %d times every second, right?' % ('swallow', 42)"
   ]
  },
  {
   "cell_type": "markdown",
   "metadata": {
    "slideshow": {
     "slide_type": "fragment"
    }
   },
   "source": [
    "See the difference? `%s` means string, and `%d` means integer. There is a whole list of these. This is known as *conversion types*. Using these, the user indicates what type of object they are going to put in that place and the interpreter figures out how to convert it to a string."
   ]
  },
  {
   "cell_type": "code",
   "execution_count": null,
   "metadata": {
    "hidePrompt": true,
    "slideshow": {
     "slide_type": "subslide"
    }
   },
   "outputs": [],
   "source": [
    "dict_of_types = {'string':'spam', 'int':42, 'exp':1e12, 'float':3.14}\n",
    "'%(string)s %(int)d %(exp)e %(float)d' % (dict_of_types)"
   ]
  },
  {
   "cell_type": "markdown",
   "metadata": {
    "slideshow": {
     "slide_type": "fragment"
    }
   },
   "source": [
    "There is a lot to be seen in the last example. Let's walk through it."
   ]
  },
  {
   "cell_type": "markdown",
   "metadata": {
    "slideshow": {
     "slide_type": "fragment"
    }
   },
   "source": [
    "1. Dictionary of values of different types\n",
    "2. Placeholders that link to the dictionary keys\n",
    "3. Conversion of types\n",
    "4. naturally unpacked dictionary"
   ]
  },
  {
   "cell_type": "markdown",
   "metadata": {
    "slideshow": {
     "slide_type": "subslide"
    }
   },
   "source": [
    "The `%` acts as a placeholder, such that we can make template strings. This can be helpful in operations like SQL"
   ]
  },
  {
   "cell_type": "code",
   "execution_count": null,
   "metadata": {
    "hidePrompt": true
   },
   "outputs": [],
   "source": [
    "fName = 'Marcus'\n",
    "job = 'graduate student instructor'\n",
    "age = 32\n",
    "\n",
    "greeting = 'Hello, my name is %s and I am %d y/o, and currently working as a %s.'\n",
    "greeting % (fName, age, job)"
   ]
  },
  {
   "cell_type": "markdown",
   "metadata": {
    "slideshow": {
     "slide_type": "fragment"
    }
   },
   "source": [
    "Again, though, this kind of format (known as 'old-style') can be burdensome on the reader/writer."
   ]
  },
  {
   "cell_type": "markdown",
   "metadata": {
    "slideshow": {
     "slide_type": "slide"
    }
   },
   "source": [
    "#  Let's explore the 'new-style'."
   ]
  },
  {
   "cell_type": "markdown",
   "metadata": {
    "slideshow": {
     "slide_type": "subslide"
    }
   },
   "source": [
    "Like `%`, the new style uses a placeholder, but it doesn't require the declaration of type beforehand. The placeholder for this style is `{}`."
   ]
  },
  {
   "cell_type": "code",
   "execution_count": null,
   "metadata": {
    "hidePrompt": true
   },
   "outputs": [],
   "source": [
    "quote = '''in order to maintain air-speed velocity, a {}\n",
    "needs to beat its wings {} times every second, right?'''\n",
    "quote.replace('\\n', ' ').format('sparrow', 42)"
   ]
  },
  {
   "cell_type": "markdown",
   "metadata": {
    "slideshow": {
     "slide_type": "subslide"
    }
   },
   "source": [
    "What's more is that you can use the placeholders to index the arguments."
   ]
  },
  {
   "cell_type": "code",
   "execution_count": null,
   "metadata": {
    "hidePrompt": true
   },
   "outputs": [],
   "source": [
    "args = ['spam', 42, 1e12, 3.14]\n",
    "'{1} {3} {0} {2}'.format(*args)"
   ]
  },
  {
   "cell_type": "markdown",
   "metadata": {
    "slideshow": {
     "slide_type": "fragment"
    }
   },
   "source": [
    "Again, I slipped in some extra here. You have seen it before, but mainly in `print` functions: `*` *unpacking*"
   ]
  },
  {
   "cell_type": "markdown",
   "metadata": {
    "slideshow": {
     "slide_type": "subslide"
    }
   },
   "source": [
    "That is cool, right? But what if you wanted to still convert the values like we did last time? We can use a 'mini-language' to control conversion and precision. The full documentation of the mini-language can be found [here](https://docs.python.org/3/library/string.html#formatspec)"
   ]
  },
  {
   "cell_type": "code",
   "execution_count": null,
   "metadata": {
    "hidePrompt": true
   },
   "outputs": [],
   "source": [
    "args = ['spam', 42, 1e12, 3.14]\n",
    "print('{:*^10}\\n{:08b}\\n{:.2e}\\n{:.0f}'.format(*args))"
   ]
  },
  {
   "cell_type": "markdown",
   "metadata": {
    "slideshow": {
     "slide_type": "subslide"
    }
   },
   "source": [
    "Like 'old-style', we can still use keyword arguments as well"
   ]
  },
  {
   "cell_type": "code",
   "execution_count": null,
   "metadata": {
    "hidePrompt": true
   },
   "outputs": [],
   "source": [
    "dict_of_types = {'string':'spam', 'int':42, 'exp':1e12, 'float':3.14}\n",
    "print('{string:*^10}\\n{int:08b}\\n{exp:.2e}\\n{float:.0f}'.format(**dict_of_types))"
   ]
  },
  {
   "cell_type": "markdown",
   "metadata": {
    "slideshow": {
     "slide_type": "fragment"
    }
   },
   "source": [
    "Like list unpacking, we are using keyword unpacking (`**`)"
   ]
  },
  {
   "cell_type": "code",
   "execution_count": null,
   "metadata": {
    "hidePrompt": true,
    "slideshow": {
     "slide_type": "subslide"
    }
   },
   "outputs": [],
   "source": [
    "fName = 'Marcus'\n",
    "job = 'GSI'\n",
    "age = 32\n",
    "\n",
    "greeting = 'Hello, my name is {} and I am {} y/o, and currently working as a {}.'\n",
    "greeting.format(fName, age, job)"
   ]
  },
  {
   "cell_type": "markdown",
   "metadata": {
    "slideshow": {
     "slide_type": "subslide"
    }
   },
   "source": [
    "Now, why does this matter? What could you use it for? Think of some use cases."
   ]
  },
  {
   "cell_type": "code",
   "execution_count": null,
   "metadata": {
    "hidePrompt": true,
    "slideshow": {
     "slide_type": "fragment"
    }
   },
   "outputs": [],
   "source": [
    "import string\n",
    "import uuid\n",
    "template = 'item: {}, guid: {}, character: {}'\n",
    "for i, s in enumerate(string.punctuation):\n",
    "    print(template.format(i, uuid.uuid4(), s))"
   ]
  },
  {
   "cell_type": "markdown",
   "metadata": {
    "slideshow": {
     "slide_type": "subslide"
    }
   },
   "source": [
    "## For fun\n",
    "Let's get sidetracked"
   ]
  },
  {
   "cell_type": "markdown",
   "metadata": {},
   "source": [
    "Below is an example of string translation. It is a restricted, but performant version of `str.replace()`. "
   ]
  },
  {
   "cell_type": "code",
   "execution_count": null,
   "metadata": {
    "hidePrompt": true,
    "scrolled": true
   },
   "outputs": [],
   "source": [
    "# template string based log\n",
    "cipher = str.maketrans(string.ascii_uppercase, string.ascii_uppercase[::-1])\n",
    "template = 'The red fox trots quietly at midnight'\n",
    "template.upper().translate(cipher)"
   ]
  },
  {
   "cell_type": "markdown",
   "metadata": {
    "slideshow": {
     "slide_type": "slide"
    }
   },
   "source": [
    "# The *newest-style*: f-strings"
   ]
  },
  {
   "cell_type": "markdown",
   "metadata": {},
   "source": [
    "Up till recently, the `{}` way of formatting was the way to do things. However, there are three syntactic issues with this method:\n",
    "1. having to write `.format()`\n",
    "2. cannot call local variables instead\n",
    "3. variable evaluation is 'dumb'"
   ]
  },
  {
   "cell_type": "markdown",
   "metadata": {
    "slideshow": {
     "slide_type": "fragment"
    }
   },
   "source": [
    "Therefore, I introduce *f-strings* (new to Python 3.6). </br>\n",
    "They look and feel `{}` familiar, but with a little extra added flair"
   ]
  },
  {
   "cell_type": "code",
   "execution_count": null,
   "metadata": {
    "hidePrompt": true,
    "slideshow": {
     "slide_type": "subslide"
    }
   },
   "outputs": [],
   "source": [
    "fName = 'Marcus'\n",
    "job = 'GSI'\n",
    "age = 32\n",
    "\n",
    "greeting = f'''Hello, my name is {fName} and I am {age} y/o,\n",
    "and currently working as a {job}.'''\n",
    "print(greeting)"
   ]
  },
  {
   "cell_type": "markdown",
   "metadata": {
    "slideshow": {
     "slide_type": "fragment"
    }
   },
   "source": [
    "Above shows that I no longer need to worry about the order arguments within a `.format()` method, or passing keyword arguments. I can directly reference the variables themselves."
   ]
  },
  {
   "cell_type": "markdown",
   "metadata": {
    "slideshow": {
     "slide_type": "subslide"
    }
   },
   "source": [
    "You may ask, \"Oh Senpai, what about formatting and type conversion?\" and I would said, \"Young padawan, there is much doubt in your voice. Still convert and format, we can\""
   ]
  },
  {
   "cell_type": "code",
   "execution_count": null,
   "metadata": {
    "hidePrompt": true
   },
   "outputs": [],
   "source": [
    "# f-string with type conversion\n",
    "a = {'string':'spam', 'int':42, 'exp':1e12, 'float':3.14}\n",
    "\n",
    "print(f'{a[\"string\"]:*^10}\\n{a[\"int\"]:08b}\\n{a[\"exp\"]:.2e}\\n{a[\"float\"]:.0f}'.format(*args))"
   ]
  },
  {
   "cell_type": "markdown",
   "metadata": {
    "slideshow": {
     "slide_type": "slide"
    }
   },
   "source": [
    "## The important part"
   ]
  },
  {
   "cell_type": "markdown",
   "metadata": {},
   "source": [
    "Besides just doing type conversion and formatting, there was something else a little more subtle you probably can pick up on: *expression interpolation*."
   ]
  },
  {
   "cell_type": "markdown",
   "metadata": {},
   "source": [
    "This is just a fancy way of saying that expressions within `{}` are evaluated and the output is converted into strings."
   ]
  },
  {
   "cell_type": "code",
   "execution_count": null,
   "metadata": {
    "hidePrompt": true,
    "slideshow": {
     "slide_type": "subslide"
    }
   },
   "outputs": [],
   "source": [
    "import random\n",
    "from collections import namedtuple\n",
    "\n",
    "Bar = namedtuple('Bar', ('x', 'pow'))\n",
    "\n",
    "def foo(x = None):\n",
    "    if not x:\n",
    "        x = 42\n",
    "    return Bar(x, x ** 2)\n",
    "\n",
    "for i in range(0, 100, 10):\n",
    "    print(f'{foo(random.randint(i, 100))}')"
   ]
  }
 ],
 "metadata": {
  "celltoolbar": "Slideshow",
  "kernelspec": {
   "display_name": "Python 3",
   "language": "python",
   "name": "python3"
  },
  "language_info": {
   "codemirror_mode": {
    "name": "ipython",
    "version": 3
   },
   "file_extension": ".py",
   "mimetype": "text/x-python",
   "name": "python",
   "nbconvert_exporter": "python",
   "pygments_lexer": "ipython3",
   "version": "3.6.4"
  }
 },
 "nbformat": 4,
 "nbformat_minor": 2
}
