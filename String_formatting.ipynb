{
 "cells": [
  {
   "cell_type": "markdown",
   "metadata": {
    "slideshow": {
     "slide_type": "slide"
    }
   },
   "source": [
    "# String Formatting\n",
    "___________________\n",
    "Many ways to do the same thing-ish"
   ]
  },
  {
   "cell_type": "markdown",
   "metadata": {
    "slideshow": {
     "slide_type": "subslide"
    }
   },
   "source": [
    "## Ye olde style: `printf`"
   ]
  },
  {
   "cell_type": "markdown",
   "metadata": {},
   "source": [
    "While string methods are many, ***string operations*** are few"
   ]
  },
  {
   "cell_type": "code",
   "execution_count": null,
   "metadata": {
    "hidePrompt": true
   },
   "outputs": [],
   "source": [
    "# Concatenation\n",
    "a = 'Hello'\n",
    "b = 'world'\n",
    "a + b"
   ]
  },
  {
   "cell_type": "markdown",
   "metadata": {
    "slideshow": {
     "slide_type": "subslide"
    }
   },
   "source": [
    "Making simple strings with concatenation makes sense, but making complete statements, log entries, or complex outputs is draining on the coder"
   ]
  },
  {
   "cell_type": "code",
   "execution_count": 19,
   "metadata": {
    "hidePrompt": true,
    "scrolled": true,
    "slideshow": {
     "slide_type": "fragment"
    }
   },
   "outputs": [
    {
     "data": {
      "text/plain": [
       "'Hello, my name is Marcus, and I am 32 years old and currently working as a graduate student instructor'"
      ]
     },
     "execution_count": 19,
     "metadata": {},
     "output_type": "execute_result"
    }
   ],
   "source": [
    "fName = 'Marcus'\n",
    "job = 'GSI'\n",
    "age = 32\n",
    "greeting = 'Hello, my name is ' + fName + ', and I am ' + str(age) + ''' years old\n",
    " and currently working as a ''' + job\n",
    "greeting.replace('\\n', '')"
   ]
  },
  {
   "cell_type": "markdown",
   "metadata": {
    "slideshow": {
     "slide_type": "subslide"
    }
   },
   "source": [
    "Therefore, let's see what else is out there"
   ]
  },
  {
   "cell_type": "code",
   "execution_count": null,
   "metadata": {
    "hidePrompt": true,
    "slideshow": {
     "slide_type": "subslide"
    }
   },
   "outputs": [],
   "source": [
    "# Multiplicity\n",
    "a * 9"
   ]
  },
  {
   "cell_type": "code",
   "execution_count": null,
   "metadata": {
    "hidePrompt": true,
    "slideshow": {
     "slide_type": "subslide"
    }
   },
   "outputs": [],
   "source": [
    "# What about difference?\n",
    "a - b"
   ]
  },
  {
   "cell_type": "code",
   "execution_count": null,
   "metadata": {
    "hidePrompt": true,
    "slideshow": {
     "slide_type": "subslide"
    }
   },
   "outputs": [],
   "source": [
    "a / b"
   ]
  },
  {
   "cell_type": "markdown",
   "metadata": {
    "slideshow": {
     "slide_type": "subslide"
    }
   },
   "source": [
    "Not to be particularly rigorous, but what about `modulo` math?"
   ]
  },
  {
   "cell_type": "code",
   "execution_count": null,
   "metadata": {
    "hidePrompt": true,
    "slideshow": {
     "slide_type": "-"
    }
   },
   "outputs": [],
   "source": [
    "a % b"
   ]
  },
  {
   "cell_type": "markdown",
   "metadata": {
    "hidePrompt": true,
    "slideshow": {
     "slide_type": "fragment"
    }
   },
   "source": [
    "That's different...</br>\n",
    "The modulo (`%`) is a unique operator when used on strings. It is called a *formatting* or *interpolation* operator, and its usage is a little unique."
   ]
  },
  {
   "cell_type": "markdown",
   "metadata": {
    "slideshow": {
     "slide_type": "slide"
    }
   },
   "source": [
    "## the syntax:"
   ]
  },
  {
   "cell_type": "code",
   "execution_count": 2,
   "metadata": {
    "hidePrompt": true
   },
   "outputs": [
    {
     "data": {
      "text/plain": [
       "'some string with modulos'"
      ]
     },
     "execution_count": 2,
     "metadata": {},
     "output_type": "execute_result"
    }
   ],
   "source": [
    "'some string with %s' % ('modulos')"
   ]
  },
  {
   "cell_type": "markdown",
   "metadata": {
    "slideshow": {
     "slide_type": "subslide"
    }
   },
   "source": [
    "The biggest issue with `%` string formatting is that it requires the user to *declare* their types before hand"
   ]
  },
  {
   "cell_type": "code",
   "execution_count": 12,
   "metadata": {
    "hidePrompt": true,
    "slideshow": {
     "slide_type": "fragment"
    }
   },
   "outputs": [
    {
     "data": {
      "text/plain": [
       "'in order to maintain air-speed velocity, a swallow needs to beat its wings 42 times every second, right?'"
      ]
     },
     "execution_count": 12,
     "metadata": {},
     "output_type": "execute_result"
    }
   ],
   "source": [
    "'in order to maintain air-speed velocity, a %s needs to beat its wings %d times every second, right?' % ('swallow', 42)"
   ]
  },
  {
   "cell_type": "markdown",
   "metadata": {
    "slideshow": {
     "slide_type": "fragment"
    }
   },
   "source": [
    "See the difference? `%s` means string, and `%d` means integer. There is a whole list of these. This is known as *conversion types*. Using these, the user indicates what type of object they are going to put in that place and the interpreter figures out how to convert it to a string."
   ]
  },
  {
   "cell_type": "code",
   "execution_count": 23,
   "metadata": {
    "hidePrompt": true,
    "slideshow": {
     "slide_type": "subslide"
    }
   },
   "outputs": [
    {
     "data": {
      "text/plain": [
       "'spam 42 1.000000e+12 3'"
      ]
     },
     "execution_count": 23,
     "metadata": {},
     "output_type": "execute_result"
    }
   ],
   "source": [
    "dict_of_types = {'string':'spam', 'int':42, 'exp':1e12, 'float':3.14}\n",
    "'%(string)s %(int)d %(exp)e %(float)d' % (dict_of_types)"
   ]
  },
  {
   "cell_type": "markdown",
   "metadata": {
    "slideshow": {
     "slide_type": "fragment"
    }
   },
   "source": [
    "There is a lot to be seen in the last example. Let's walk through it."
   ]
  },
  {
   "cell_type": "markdown",
   "metadata": {
    "slideshow": {
     "slide_type": "fragment"
    }
   },
   "source": [
    "1. Dictionary of values of different types\n",
    "2. Placeholders that link to the dictionary keys\n",
    "3. Conversion of types\n",
    "4. naturally unpacked dictionary"
   ]
  },
  {
   "cell_type": "markdown",
   "metadata": {
    "slideshow": {
     "slide_type": "subslide"
    }
   },
   "source": [
    "The `%` acts as a placeholder, such that we can make template strings. This can be helpful in operations like SQL"
   ]
  },
  {
   "cell_type": "code",
   "execution_count": 24,
   "metadata": {
    "hidePrompt": true
   },
   "outputs": [
    {
     "data": {
      "text/plain": [
       "'Hello, my name is Marcus and I am 32 y/o, and currently working as a graduate student instructor.'"
      ]
     },
     "execution_count": 24,
     "metadata": {},
     "output_type": "execute_result"
    }
   ],
   "source": [
    "fName = 'Marcus'\n",
    "job = 'graduate student instructor'\n",
    "age = 32\n",
    "\n",
    "greeting = 'Hello, my name is %s and I am %d y/o, and currently working as a %s.'\n",
    "greeting % (fName, age, job)"
   ]
  },
  {
   "cell_type": "markdown",
   "metadata": {
    "slideshow": {
     "slide_type": "fragment"
    }
   },
   "source": [
    "Again, though, this kind of format (known as 'old-style') can be burdensome on the reader/writer."
   ]
  },
  {
   "cell_type": "markdown",
   "metadata": {
    "slideshow": {
     "slide_type": "slide"
    }
   },
   "source": [
    "#  Let's explore the 'new-style'."
   ]
  },
  {
   "cell_type": "markdown",
   "metadata": {
    "slideshow": {
     "slide_type": "subslide"
    }
   },
   "source": [
    "Like `%`, the new style uses a placeholder, but it doesn't require the declaration of type beforehand. The placeholder for this style is `{}`."
   ]
  },
  {
   "cell_type": "code",
   "execution_count": 29,
   "metadata": {
    "hidePrompt": true
   },
   "outputs": [
    {
     "data": {
      "text/plain": [
       "'in order to maintain air-speed velocity, a sparrow needs to beat its wings 42 times every second, right?'"
      ]
     },
     "execution_count": 29,
     "metadata": {},
     "output_type": "execute_result"
    }
   ],
   "source": [
    "quote = '''in order to maintain air-speed velocity, a {}\n",
    "needs to beat its wings {} times every second, right?'''\n",
    "quote.replace('\\n', ' ').format('sparrow', 42)"
   ]
  },
  {
   "cell_type": "markdown",
   "metadata": {
    "slideshow": {
     "slide_type": "subslide"
    }
   },
   "source": [
    "What's more is that you can use the placeholders to index the arguments."
   ]
  },
  {
   "cell_type": "code",
   "execution_count": 31,
   "metadata": {
    "hidePrompt": true
   },
   "outputs": [
    {
     "data": {
      "text/plain": [
       "'42 3.14 spam 1000000000000.0'"
      ]
     },
     "execution_count": 31,
     "metadata": {},
     "output_type": "execute_result"
    }
   ],
   "source": [
    "args = ['spam', 42, 1e12, 3.14]\n",
    "'{1} {3} {0} {2}'.format(*args)"
   ]
  },
  {
   "cell_type": "markdown",
   "metadata": {
    "slideshow": {
     "slide_type": "fragment"
    }
   },
   "source": [
    "Again, I slipped in some extra here. You have seen it before, but mainly in `print` functions: `*` *unpacking*"
   ]
  },
  {
   "cell_type": "markdown",
   "metadata": {
    "slideshow": {
     "slide_type": "subslide"
    }
   },
   "source": [
    "That is cool, right? But what if you wanted to still convert the values like we did last time? We can use a 'mini-language' to control conversion and precision. The full documentation of the mini-language can be found [here](https://docs.python.org/3/library/string.html#formatspec)"
   ]
  },
  {
   "cell_type": "code",
   "execution_count": 59,
   "metadata": {
    "hidePrompt": true
   },
   "outputs": [
    {
     "name": "stdout",
     "output_type": "stream",
     "text": [
      "***spam***\n",
      "00101010\n",
      "1.00e+12\n",
      "3\n"
     ]
    }
   ],
   "source": [
    "args = ['spam', 42, 1e12, 3.14]\n",
    "print('{:*^10}\\n{:08b}\\n{:.2e}\\n{:.0f}'.format(*args))"
   ]
  },
  {
   "cell_type": "markdown",
   "metadata": {
    "slideshow": {
     "slide_type": "subslide"
    }
   },
   "source": [
    "Like 'old-style', we can still use keyword arguments as well"
   ]
  },
  {
   "cell_type": "code",
   "execution_count": 63,
   "metadata": {
    "hidePrompt": true
   },
   "outputs": [
    {
     "name": "stdout",
     "output_type": "stream",
     "text": [
      "***spam***\n",
      "00101010\n",
      "1.00e+12\n",
      "3\n"
     ]
    }
   ],
   "source": [
    "dict_of_types = {'string':'spam', 'int':42, 'exp':1e12, 'float':3.14}\n",
    "print('{string:*^10}\\n{int:08b}\\n{exp:.2e}\\n{float:.0f}'.format(**dict_of_types))"
   ]
  },
  {
   "cell_type": "markdown",
   "metadata": {
    "slideshow": {
     "slide_type": "fragment"
    }
   },
   "source": [
    "Like list unpacking, we are using keyword unpacking (`**`)"
   ]
  },
  {
   "cell_type": "code",
   "execution_count": 82,
   "metadata": {
    "hidePrompt": true,
    "slideshow": {
     "slide_type": "subslide"
    }
   },
   "outputs": [
    {
     "data": {
      "text/plain": [
       "'Hello, my name is Marcus and I am 32 y/o, and currently working as a GSI.'"
      ]
     },
     "execution_count": 82,
     "metadata": {},
     "output_type": "execute_result"
    }
   ],
   "source": [
    "fName = 'Marcus'\n",
    "job = 'GSI'\n",
    "age = 32\n",
    "\n",
    "greeting = 'Hello, my name is {} and I am {} y/o, and currently working as a {}.'\n",
    "greeting.format(fName, age, job)"
   ]
  },
  {
   "cell_type": "markdown",
   "metadata": {
    "slideshow": {
     "slide_type": "subslide"
    }
   },
   "source": [
    "Now, why does this matter? What could you use it for? Think of some use cases."
   ]
  },
  {
   "cell_type": "code",
   "execution_count": 80,
   "metadata": {
    "hidePrompt": true,
    "slideshow": {
     "slide_type": "fragment"
    }
   },
   "outputs": [
    {
     "name": "stdout",
     "output_type": "stream",
     "text": [
      "item: 0, guid: b2ac1dfa-fff8-4ccf-ae61-990cf077d358, character: !\n",
      "item: 1, guid: fce9b091-61df-4b4f-9a7e-ce5f29241717, character: \"\n",
      "item: 2, guid: 444e44df-8690-4f18-8f3f-5640144f87b6, character: #\n",
      "item: 3, guid: c2ee2164-5c4c-46f1-be08-6430d67c3d21, character: $\n",
      "item: 4, guid: 1a1ae086-0d0b-4b2d-9be8-178dd170f677, character: %\n",
      "item: 5, guid: 89401875-7bdb-424c-9499-8d91c5180f36, character: &\n",
      "item: 6, guid: 936ce14a-45da-420c-b61b-c2e70a23bc32, character: '\n",
      "item: 7, guid: 24d3eecf-83c5-4005-820e-4e648a90bd54, character: (\n",
      "item: 8, guid: ff0f47b0-0402-4c66-a64d-c9a3c33c4e97, character: )\n",
      "item: 9, guid: 969f07c4-be29-480c-b0b2-1477e571623a, character: *\n",
      "item: 10, guid: df979085-eded-4661-985e-1abdf4633a36, character: +\n",
      "item: 11, guid: 93aff92b-030d-4d27-99b1-f849954d9146, character: ,\n",
      "item: 12, guid: 1972adee-8820-48a4-acd8-fbb5002b0870, character: -\n",
      "item: 13, guid: a42fb5fe-8e5e-49aa-b252-f287715871a4, character: .\n",
      "item: 14, guid: 656c792b-48a2-4d20-a8db-e38f8f4ec4c2, character: /\n",
      "item: 15, guid: 37940ca1-ef32-412c-b026-3b7755b445c4, character: :\n",
      "item: 16, guid: 8371eaa2-ccc5-4802-b99e-83af34aa244f, character: ;\n",
      "item: 17, guid: e6ba6d04-fd1b-4178-aa26-06ea6619add4, character: <\n",
      "item: 18, guid: 9ca03941-c81a-45d3-8237-f2c32fb1c6ff, character: =\n",
      "item: 19, guid: e976e058-d469-420a-a498-ea522146610f, character: >\n",
      "item: 20, guid: cb975ba5-b718-42a7-8fcb-719994399be2, character: ?\n",
      "item: 21, guid: 7e3fe936-4383-4f4a-852f-110548243b82, character: @\n",
      "item: 22, guid: ae9c81f3-9d6e-452f-bdcd-714a23d23421, character: [\n",
      "item: 23, guid: d14e5c0f-f9e4-46e9-a388-143ea40f043a, character: \\\n",
      "item: 24, guid: 603e56b8-f295-4ca9-b8cc-0dcb7e5df7d7, character: ]\n",
      "item: 25, guid: 2b28216e-960f-4944-841a-4d67667c719e, character: ^\n",
      "item: 26, guid: 2940a3fe-5ba1-4488-9804-92ceb841d214, character: _\n",
      "item: 27, guid: c6dae21b-34d7-469b-880a-7e42ecb5b9c4, character: `\n",
      "item: 28, guid: 47a90914-3fc1-46cf-9d8a-8f402fc1edfa, character: {\n",
      "item: 29, guid: 750603a7-5025-4a7b-9576-c1ab46cc8f6c, character: |\n",
      "item: 30, guid: badc9f5e-8fea-4d6a-9bc0-eaf72a4aadba, character: }\n",
      "item: 31, guid: 2bf4f2ff-cfda-4b91-a4af-11e5495caff2, character: ~\n"
     ]
    }
   ],
   "source": [
    "import string\n",
    "import uuid\n",
    "template = 'item: {}, guid: {}, character: {}'\n",
    "for i, s in enumerate(string.punctuation):\n",
    "    print(template.format(i, uuid.uuid4(), s))"
   ]
  },
  {
   "cell_type": "markdown",
   "metadata": {
    "slideshow": {
     "slide_type": "subslide"
    }
   },
   "source": [
    "## For fun\n",
    "Let's get sidetracked"
   ]
  },
  {
   "cell_type": "markdown",
   "metadata": {},
   "source": [
    "Below is an example of string translation. It is a restricted, but performant version of `str.replace()`. "
   ]
  },
  {
   "cell_type": "code",
   "execution_count": 76,
   "metadata": {
    "hidePrompt": true,
    "scrolled": true
   },
   "outputs": [
    {
     "data": {
      "text/plain": [
       "'GSV IVW ULC GILGH JFRVGOB ZG NRWMRTSG'"
      ]
     },
     "execution_count": 76,
     "metadata": {},
     "output_type": "execute_result"
    }
   ],
   "source": [
    "# template string based log\n",
    "cipher = str.maketrans(string.ascii_uppercase, string.ascii_uppercase[::-1])\n",
    "template = 'The red fox trots quietly at midnight'\n",
    "template.upper().translate(cipher)"
   ]
  },
  {
   "cell_type": "markdown",
   "metadata": {
    "slideshow": {
     "slide_type": "slide"
    }
   },
   "source": [
    "# The *newest-style*: f-strings"
   ]
  },
  {
   "cell_type": "markdown",
   "metadata": {},
   "source": [
    "Up till recently, the `{}` way of formatting was the way to do things. However, there are three syntactic issues with this method:\n",
    "1. having to write `.format()`\n",
    "2. cannot call local variables instead\n",
    "3. variable evaluation is 'dumb'"
   ]
  },
  {
   "cell_type": "markdown",
   "metadata": {
    "slideshow": {
     "slide_type": "fragment"
    }
   },
   "source": [
    "Therefore, I introduce *f-strings* (new to Python 3.6). </br>\n",
    "They look and feel `{}` familiar, but with a little extra added flair"
   ]
  },
  {
   "cell_type": "code",
   "execution_count": 86,
   "metadata": {
    "hidePrompt": true,
    "slideshow": {
     "slide_type": "subslide"
    }
   },
   "outputs": [
    {
     "name": "stdout",
     "output_type": "stream",
     "text": [
      "Hello, my name is Marcus and I am 32 y/o,\n",
      "and currently working as a GSI.\n"
     ]
    }
   ],
   "source": [
    "fName = 'Marcus'\n",
    "job = 'GSI'\n",
    "age = 32\n",
    "\n",
    "greeting = f'''Hello, my name is {fName} and I am {age} y/o,\n",
    "and currently working as a {job}.'''\n",
    "print(greeting)"
   ]
  },
  {
   "cell_type": "markdown",
   "metadata": {
    "slideshow": {
     "slide_type": "fragment"
    }
   },
   "source": [
    "Above shows that I no longer need to worry about the order arguments within a `.format()` method, or passing keyword arguments. I can directly reference the variables themselves."
   ]
  },
  {
   "cell_type": "markdown",
   "metadata": {
    "slideshow": {
     "slide_type": "subslide"
    }
   },
   "source": [
    "You may ask, \"Oh Senpai, what about formatting and type conversion?\" and I would said, \"Young padawan, there is much doubt in your voice. Still convert and format, we can\""
   ]
  },
  {
   "cell_type": "code",
   "execution_count": 87,
   "metadata": {
    "hidePrompt": true
   },
   "outputs": [
    {
     "name": "stdout",
     "output_type": "stream",
     "text": [
      "***spam***\n",
      "00101010\n",
      "1.00e+12\n",
      "3\n"
     ]
    }
   ],
   "source": [
    "# f-string with type conversion\n",
    "a = {'string':'spam', 'int':42, 'exp':1e12, 'float':3.14}\n",
    "\n",
    "print(f'{a[\"string\"]:*^10}\\n{a[\"int\"]:08b}\\n{a[\"exp\"]:.2e}\\n{a[\"float\"]:.0f}'.format(*args))"
   ]
  },
  {
   "cell_type": "markdown",
   "metadata": {
    "slideshow": {
     "slide_type": "slide"
    }
   },
   "source": [
    "## The important part"
   ]
  },
  {
   "cell_type": "markdown",
   "metadata": {},
   "source": [
    "Besides just doing type conversion and formatting, there was something else a little more subtle you probably can pick up on: *expression interpolation*."
   ]
  },
  {
   "cell_type": "markdown",
   "metadata": {},
   "source": [
    "This is just a fancy way of saying that expressions within `{}` are evaluated and the output is converted into strings."
   ]
  },
  {
   "cell_type": "code",
   "execution_count": 146,
   "metadata": {
    "hidePrompt": true,
    "slideshow": {
     "slide_type": "subslide"
    }
   },
   "outputs": [
    {
     "name": "stdout",
     "output_type": "stream",
     "text": [
      "Bar(x=61, pow=3721)\n",
      "Bar(x=55, pow=3025)\n",
      "Bar(x=79, pow=6241)\n",
      "Bar(x=91, pow=8281)\n",
      "Bar(x=89, pow=7921)\n",
      "Bar(x=85, pow=7225)\n",
      "Bar(x=94, pow=8836)\n",
      "Bar(x=72, pow=5184)\n",
      "Bar(x=92, pow=8464)\n",
      "Bar(x=94, pow=8836)\n"
     ]
    }
   ],
   "source": [
    "import random\n",
    "from collections import namedtuple\n",
    "\n",
    "Bar = namedtuple('Bar', ('x', 'pow'))\n",
    "\n",
    "def foo(x = None):\n",
    "    if not x:\n",
    "        x = 42\n",
    "    return Bar(x, x ** 2)\n",
    "\n",
    "for i in range(0, 100, 10):\n",
    "    print(f'{foo(random.randint(i, 100))}')"
   ]
  }
 ],
 "metadata": {
  "celltoolbar": "Slideshow",
  "kernelspec": {
   "display_name": "Python 3",
   "language": "python",
   "name": "python3"
  },
  "language_info": {
   "codemirror_mode": {
    "name": "ipython",
    "version": 3
   },
   "file_extension": ".py",
   "mimetype": "text/x-python",
   "name": "python",
   "nbconvert_exporter": "python",
   "pygments_lexer": "ipython3",
   "version": "3.6.4"
  }
 },
 "nbformat": 4,
 "nbformat_minor": 2
}
