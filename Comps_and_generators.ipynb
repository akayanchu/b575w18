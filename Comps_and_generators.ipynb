{
 "cells": [
  {
   "cell_type": "code",
   "execution_count": null,
   "metadata": {
    "slideshow": {
     "slide_type": "skip"
    }
   },
   "outputs": [],
   "source": [
    "import os\n",
    "array_file = iter(open(os.path.join('.','attached','test_array.dat'), 'r'))"
   ]
  },
  {
   "cell_type": "markdown",
   "metadata": {
    "slideshow": {
     "slide_type": "slide"
    }
   },
   "source": [
    "# List Comprehensions and Generators\n",
    "Download this notebook from Canvas under Files > Python > MarcusCode > Comps_and_generators.ipynb<br/>\n",
    "or clone my repo at [https://github.com/betteridiot/b575w18]"
   ]
  },
  {
   "cell_type": "markdown",
   "metadata": {
    "hideCode": false,
    "hidePrompt": false,
    "slideshow": {
     "slide_type": "slide"
    }
   },
   "source": [
    "# Lists Comprehensions"
   ]
  },
  {
   "cell_type": "markdown",
   "metadata": {
    "hideCode": false,
    "hidePrompt": false
   },
   "source": [
    "As we *all* know, mathematicians and statisticians like to make simple things complicated. Instead of just saying `1+2=3`, we first have to prove that `+` is in fact addition. Then we have to ensure that our assumptions only apply to the select cases we expect our \"algorithm\" to be used. See, I am boring myself already."
   ]
  },
  {
   "cell_type": "markdown",
   "metadata": {
    "hideCode": false,
    "hidePrompt": false,
    "slideshow": {
     "slide_type": "slide"
    }
   },
   "source": [
    "### However, something useful came out of this banal minutiae--set notation:"
   ]
  },
  {
   "cell_type": "markdown",
   "metadata": {
    "hideCode": false,
    "hidePrompt": false,
    "slideshow": {
     "slide_type": "fragment"
    }
   },
   "source": [
    "This is something like:<br/>\n",
    "$V=(1,2,\\ \\ldots\\ ,n)$<br/> \n",
    "$S= \\{x^2:\\ x\\ in\\ {\\rm I\\!R}\\}$"
   ]
  },
  {
   "cell_type": "markdown",
   "metadata": {
    "hideCode": false,
    "hidePrompt": false,
    "slideshow": {
     "slide_type": "fragment"
    }
   },
   "source": [
    "While it looks like absolute garbage when you are about to take an exam...granted, I usually forget that `x` is a letter in the alphabet during exams, it has its uses."
   ]
  },
  {
   "cell_type": "markdown",
   "metadata": {
    "hideCode": false,
    "hidePrompt": false,
    "slideshow": {
     "slide_type": "subslide"
    }
   },
   "source": [
    "In Python, users tend to use ***'for loops'*** for iterate through our entire sample space. For example:"
   ]
  },
  {
   "cell_type": "code",
   "execution_count": 7,
   "metadata": {
    "hideCode": false,
    "hidePrompt": true,
    "slideshow": {
     "slide_type": "fragment"
    }
   },
   "outputs": [
    {
     "name": "stdout",
     "output_type": "stream",
     "text": [
      "[0, 1, 4, 9, 16, 25, 36, 49, 64, 81]\n"
     ]
    }
   ],
   "source": [
    "S = []\n",
    "for x in range(1000):\n",
    "    S.append(x**2)\n",
    "print(S[:10])"
   ]
  },
  {
   "cell_type": "markdown",
   "metadata": {
    "hideCode": false,
    "hidePrompt": false,
    "slideshow": {
     "slide_type": "slide"
    }
   },
   "source": [
    "# There's got a be a better way!"
   ]
  },
  {
   "cell_type": "markdown",
   "metadata": {
    "hideCode": false,
    "hidePrompt": false
   },
   "source": [
    "There is Kevin! This same step can be compressed to a single line in Python. The example below is called a ***list comprehension***:"
   ]
  },
  {
   "cell_type": "code",
   "execution_count": 8,
   "metadata": {
    "hideCode": false,
    "hidePrompt": true
   },
   "outputs": [
    {
     "name": "stdout",
     "output_type": "stream",
     "text": [
      "[0, 1, 4, 9, 16, 25, 36, 49, 64, 81]\n"
     ]
    }
   ],
   "source": [
    "S = [x**2 for x in range(1000)]\n",
    "print(S[:10])"
   ]
  },
  {
   "cell_type": "markdown",
   "metadata": {
    "hideCode": false,
    "hidePrompt": false,
    "slideshow": {
     "slide_type": "slide"
    }
   },
   "source": [
    "# Syntax of a *list** comprehensions"
   ]
  },
  {
   "cell_type": "markdown",
   "metadata": {
    "hideCode": false,
    "hidePrompt": false
   },
   "source": [
    "<center>![](http://python-3-patterns-idioms-test.readthedocs.io/en/latest/_images/listComprehensions.gif)</center>"
   ]
  },
  {
   "cell_type": "markdown",
   "metadata": {
    "hideCode": false,
    "hidePrompt": false,
    "slideshow": {
     "slide_type": "slide"
    }
   },
   "source": [
    "# Not just math"
   ]
  },
  {
   "cell_type": "markdown",
   "metadata": {
    "hideCode": false,
    "hidePrompt": false
   },
   "source": [
    "Remember your homework? You had to process each line of an array one at a time, `strip()`, `split()`, and convert the object type. There were ultimately 2 ways to accomplish this:"
   ]
  },
  {
   "cell_type": "code",
   "execution_count": null,
   "metadata": {
    "hideCode": false,
    "hidePrompt": true
   },
   "outputs": [],
   "source": [
    "# First way: functionally (or standard for loop)\n",
    "def converter(line, object_type, delimiter = '\\t'):\n",
    "    line = line.strip()\n",
    "    line = line.split(delimiter)\n",
    "    row = []\n",
    "    for element in line:\n",
    "        row.append(object_type(element))\n",
    "    return row"
   ]
  },
  {
   "cell_type": "code",
   "execution_count": 11,
   "metadata": {
    "hideCode": false,
    "hidePrompt": true,
    "slideshow": {
     "slide_type": "subslide"
    }
   },
   "outputs": [
    {
     "name": "stdout",
     "output_type": "stream",
     "text": [
      "[21.0, 22.0, 23.0, 24.0, 25.0]\n"
     ]
    }
   ],
   "source": [
    "# Second way: list comprehension\n",
    "row = [float(element) for element in line.strip().split('\\t')]\n",
    "print(row)"
   ]
  },
  {
   "cell_type": "markdown",
   "metadata": {
    "hideCode": false,
    "hidePrompt": false
   },
   "source": [
    "See how **easy** and **short** that is visually?"
   ]
  },
  {
   "cell_type": "markdown",
   "metadata": {
    "hideCode": false,
    "hidePrompt": false,
    "slideshow": {
     "slide_type": "subslide"
    }
   },
   "source": [
    "List comprehensions are one of foundations that Python coders use when they want to do something simple that requires a for loop. However, list comprehensions involve most of the same rules that apply to regular for loops, thus making them capable of much more."
   ]
  },
  {
   "cell_type": "code",
   "execution_count": 12,
   "metadata": {},
   "outputs": [
    {
     "data": {
      "text/plain": [
       "['AAA',\n",
       " 'AAC',\n",
       " 'AAG',\n",
       " 'AAT',\n",
       " 'ACA',\n",
       " 'ACC',\n",
       " 'ACG',\n",
       " 'ACT',\n",
       " 'AGA',\n",
       " 'AGC',\n",
       " 'AGG',\n",
       " 'AGT',\n",
       " 'ATA',\n",
       " 'ATC',\n",
       " 'ATG',\n",
       " 'ATT',\n",
       " 'CAA',\n",
       " 'CAC',\n",
       " 'CAG',\n",
       " 'CAT',\n",
       " 'CCA',\n",
       " 'CCC',\n",
       " 'CCG',\n",
       " 'CCT',\n",
       " 'CGA',\n",
       " 'CGC',\n",
       " 'CGG',\n",
       " 'CGT',\n",
       " 'CTA',\n",
       " 'CTC',\n",
       " 'CTG',\n",
       " 'CTT',\n",
       " 'GAA',\n",
       " 'GAC',\n",
       " 'GAG',\n",
       " 'GAT',\n",
       " 'GCA',\n",
       " 'GCC',\n",
       " 'GCG',\n",
       " 'GCT',\n",
       " 'GGA',\n",
       " 'GGC',\n",
       " 'GGG',\n",
       " 'GGT',\n",
       " 'GTA',\n",
       " 'GTC',\n",
       " 'GTG',\n",
       " 'GTT',\n",
       " 'TAA',\n",
       " 'TAC',\n",
       " 'TAG',\n",
       " 'TAT',\n",
       " 'TCA',\n",
       " 'TCC',\n",
       " 'TCG',\n",
       " 'TCT',\n",
       " 'TGA',\n",
       " 'TGC',\n",
       " 'TGG',\n",
       " 'TGT',\n",
       " 'TTA',\n",
       " 'TTC',\n",
       " 'TTG',\n",
       " 'TTT']"
      ]
     },
     "execution_count": 12,
     "metadata": {},
     "output_type": "execute_result"
    }
   ],
   "source": [
    "bases = 'ACGT'\n",
    "[x+y+z for x in bases for y in bases for z in bases]"
   ]
  },
  {
   "cell_type": "code",
   "execution_count": 13,
   "metadata": {
    "hideCode": false,
    "hidePrompt": true,
    "slideshow": {
     "slide_type": "slide"
    }
   },
   "outputs": [],
   "source": [
    "# Remember this part of the homework?\n",
    "def online_average(new_entries, n, old_average=None):\n",
    "    if old_average is None:\n",
    "        old_average = [0] * len(new_entries)\n",
    "        for i in range(len(new_entries)):\n",
    "            old_average[i] = round(new_entries[i], 4)\n",
    "        return old_average\n",
    "    else:\n",
    "        for j, new in enumerate(new_entries):\n",
    "            Δ = new - old_average[i]\n",
    "            old_average[i] = round(old_average[i] + Δ / n, 4)\n",
    "        return old_average"
   ]
  },
  {
   "cell_type": "code",
   "execution_count": null,
   "metadata": {
    "hideCode": false,
    "hidePrompt": true,
    "slideshow": {
     "slide_type": "subslide"
    }
   },
   "outputs": [],
   "source": [
    "# How about with list comprehensions\n",
    "def online_average(new, n, old = None):\n",
    "    if old is None:\n",
    "        old = [round(i,4) for i in new]\n",
    "    else:\n",
    "        old = [round(old[i]+(new[i]-old[i])/n, 4) for j in range(len(new))]\n",
    "    return old"
   ]
  },
  {
   "cell_type": "markdown",
   "metadata": {
    "hideCode": false,
    "hidePrompt": false,
    "slideshow": {
     "slide_type": "slide"
    }
   },
   "source": [
    "# But there is more!"
   ]
  },
  {
   "cell_type": "markdown",
   "metadata": {
    "hideCode": false,
    "hidePrompt": false
   },
   "source": [
    "You can add predicates (or conditionals) to your for loops to handle simple cases"
   ]
  },
  {
   "cell_type": "code",
   "execution_count": 14,
   "metadata": {
    "hideCode": false,
    "hidePrompt": true
   },
   "outputs": [
    {
     "name": "stdout",
     "output_type": "stream",
     "text": [
      "[0, 25, 50, 75, 100, 125, 150, 175, 200, 225]\n"
     ]
    }
   ],
   "source": [
    "# The '%' is a modulo. It gives me the remainder after division\n",
    "fun = [num for num in range(10000) if num % 25 == 0]\n",
    "print(fun[:10])"
   ]
  },
  {
   "cell_type": "markdown",
   "metadata": {
    "hideCode": false,
    "hidePrompt": false,
    "slideshow": {
     "slide_type": "subslide"
    }
   },
   "source": [
    "However, the sky is the limit when it comes to complexity. Ever hear of the 'Fizz Buzz' interview question?<br/>\n",
    "For those that haven't, the 'Fizz Buzz' question requires a programmer to do the following:<br/>\n",
    "1. return 'Fizz' if the number is divisible by some number (usually 3)\n",
    "2. return 'Buzz' if it is divisible by another number (usually 5)\n",
    "3. return 'Fizzbuzz' if divisible by both\n",
    "4. return just the number if none of the above"
   ]
  },
  {
   "cell_type": "code",
   "execution_count": 15,
   "metadata": {
    "hideCode": false,
    "hidePrompt": true,
    "slideshow": {
     "slide_type": "subslide"
    }
   },
   "outputs": [
    {
     "name": "stdout",
     "output_type": "stream",
     "text": [
      "[1, 2, 'Fizz', 4, 'Buzz', 'Fizz', 7, 8, 'Fizz', 'Buzz', 11, 'Fizz', 13, 14, 'FIZZBUZZ', 16, 17, 'Fizz', 19, 'Buzz', 'Fizz', 22, 23, 'Fizz', 'Buzz', 26, 'Fizz', 28, 29, 'FIZZBUZZ', 31, 32, 'Fizz', 34, 'Buzz', 'Fizz', 37, 38, 'Fizz', 'Buzz', 41, 'Fizz', 43, 44, 'FIZZBUZZ', 46, 47, 'Fizz', 49, 'Buzz']\n"
     ]
    }
   ],
   "source": [
    "# One-line 'FizzBuzz'\n",
    "fun2=['FIZZBUZZ' if num%5==0 and num%3==0 else 'Buzz' if num%5==0 else 'Fizz' if num%3==0 else num for num in range(1, 10000000)]\n",
    "print(fun2[:50])"
   ]
  },
  {
   "cell_type": "markdown",
   "metadata": {
    "hideCode": false,
    "hidePrompt": false,
    "slideshow": {
     "slide_type": "fragment"
    }
   },
   "source": [
    "There are some trade-offs though when you start making your list comprehensions more complex:<br/>\n",
    "1. Readability\n",
    "2. Understandability\n",
    "3. Conventionally, complex comprehensions are frowned on-they go against the 'Zen of Python'"
   ]
  },
  {
   "cell_type": "code",
   "execution_count": 16,
   "metadata": {
    "hideCode": false,
    "hidePrompt": true,
    "slideshow": {
     "slide_type": "slide"
    }
   },
   "outputs": [
    {
     "name": "stdout",
     "output_type": "stream",
     "text": [
      "The Zen of Python, by Tim Peters\n",
      "\n",
      "Beautiful is better than ugly.\n",
      "Explicit is better than implicit.\n",
      "Simple is better than complex.\n",
      "Complex is better than complicated.\n",
      "Flat is better than nested.\n",
      "Sparse is better than dense.\n",
      "Readability counts.\n",
      "Special cases aren't special enough to break the rules.\n",
      "Although practicality beats purity.\n",
      "Errors should never pass silently.\n",
      "Unless explicitly silenced.\n",
      "In the face of ambiguity, refuse the temptation to guess.\n",
      "There should be one-- and preferably only one --obvious way to do it.\n",
      "Although that way may not be obvious at first unless you're Dutch.\n",
      "Now is better than never.\n",
      "Although never is often better than *right* now.\n",
      "If the implementation is hard to explain, it's a bad idea.\n",
      "If the implementation is easy to explain, it may be a good idea.\n",
      "Namespaces are one honking great idea -- let's do more of those!\n"
     ]
    }
   ],
   "source": [
    "# What's the 'Zen of Python' you ask?\n",
    "import this"
   ]
  },
  {
   "cell_type": "markdown",
   "metadata": {
    "hideCode": false,
    "hidePrompt": false,
    "slideshow": {
     "slide_type": "slide"
    }
   },
   "source": [
    "# Does more than just lists too"
   ]
  },
  {
   "cell_type": "code",
   "execution_count": 17,
   "metadata": {
    "hideCode": false,
    "hidePrompt": true,
    "slideshow": {
     "slide_type": "subslide"
    }
   },
   "outputs": [
    {
     "name": "stdout",
     "output_type": "stream",
     "text": [
      "{'a': 0, 'b': 1, 'c': 2, 'd': 3, 'e': 4, 'f': 5, 'g': 6, 'h': 7, 'i': 8, 'j': 9, 'k': 10, 'l': 11, 'm': 12, 'n': 13, 'o': 14, 'p': 15, 'q': 16, 'r': 17, 's': 18, 't': 19, 'u': 20, 'v': 21, 'w': 22, 'x': 23, 'y': 24, 'z': 25}\n"
     ]
    }
   ],
   "source": [
    "# Dictionary Comprehensions\n",
    "dicter = {x:y for x,y in zip('abcdefghijklmnopqrstuvwxyz', range(26))}\n",
    "print(dicter)"
   ]
  },
  {
   "cell_type": "code",
   "execution_count": 18,
   "metadata": {
    "hideCode": false,
    "hidePrompt": true,
    "slideshow": {
     "slide_type": "subslide"
    }
   },
   "outputs": [
    {
     "name": "stdout",
     "output_type": "stream",
     "text": [
      "{('t', 19), ('s', 18), ('q', 16), ('v', 21), ('n', 13), ('l', 11), ('e', 4), ('i', 8), ('b', 1), ('z', 25), ('f', 5), ('r', 17), ('x', 23), ('y', 24), ('h', 7), ('c', 2), ('d', 3), ('u', 20), ('o', 14), ('a', 0), ('m', 12), ('g', 6), ('p', 15), ('w', 22), ('k', 10), ('j', 9)}\n"
     ]
    }
   ],
   "source": [
    "# Set comprehensions\n",
    "setter = set((i,j) for i,j in zip('abcdefghijklmnopqrstuvwxyz', range(26)))\n",
    "print(setter)"
   ]
  },
  {
   "cell_type": "markdown",
   "metadata": {
    "hideCode": false,
    "hidePrompt": false,
    "slideshow": {
     "slide_type": "fragment"
    }
   },
   "source": [
    "Let's take a second and look at the above example. What has happened here?"
   ]
  },
  {
   "cell_type": "markdown",
   "metadata": {
    "hideCode": false,
    "hidePrompt": false,
    "slideshow": {
     "slide_type": "slide"
    }
   },
   "source": [
    "# Sometimes, doing it all at once isn't the best approach"
   ]
  },
  {
   "cell_type": "markdown",
   "metadata": {
    "hideCode": false,
    "hidePrompt": false,
    "slideshow": {
     "slide_type": "slide"
    }
   },
   "source": [
    "# Workshop time!"
   ]
  },
  {
   "cell_type": "code",
   "execution_count": 19,
   "metadata": {
    "hidePrompt": true,
    "slideshow": {
     "slide_type": "subslide"
    }
   },
   "outputs": [],
   "source": [
    "# Team Classic\n",
    "def stack_coins_classic(n):\n",
    "    stack = True # a stack of 4 coins\n",
    "    chocolates = []\n",
    "    for i in range(n):\n",
    "        coins = 0       \n",
    "        for j in range(4):\n",
    "            coins += 1\n",
    "        chocolates.append(stack)\n",
    "    print('All chocolates ready')\n",
    "    return chocolates\n",
    "\n",
    "def make_envelopes_classic(chocolates):\n",
    "    # for each envelope needed, put coins in envelopes\n",
    "    envelopes = [stack for j in chocolates]\n",
    "    print('All envelopes full')\n",
    "    return envelopes\n",
    "\n",
    "def hand_out_classic(envelopes):\n",
    "    # for each envelope made, hand them out\n",
    "    for env in envelopes:\n",
    "        pass\n",
    "    print('Deliveries complete')\n",
    "\n",
    "def new_year_classic(n):\n",
    "    chocolates = stack_coins_classic(n)\n",
    "    envelopes = make_envelopes_classic(chocolates)\n",
    "    deliveries = hand_out_classic(envelopes)\n",
    "    print('Delivery Complete')"
   ]
  },
  {
   "cell_type": "code",
   "execution_count": 20,
   "metadata": {
    "hidePrompt": true,
    "slideshow": {
     "slide_type": "subslide"
    }
   },
   "outputs": [],
   "source": [
    "# Team Generator\n",
    "def stack_coins_gen(n):\n",
    "    stack = True\n",
    "    for i in range(n):\n",
    "        coins = 0     \n",
    "        for j in range(4):\n",
    "            coins += 1\n",
    "        print(f'Number {i+1} stack ready')\n",
    "        yield stack\n",
    "\n",
    "def make_envelopes_gen(chocolates):\n",
    "    full_envelope = True\n",
    "    while chocolates:\n",
    "        print('Envelope full')\n",
    "        yield full_envelope\n",
    "\n",
    "def hand_out_gen(envelopes):\n",
    "    delivery = True\n",
    "    while envelopes:\n",
    "        print('Out for delivery')\n",
    "        yield delivery\n",
    "\n",
    "def new_year_gen(n):\n",
    "    coins = stack_coins_gen(n)\n",
    "    envelope = make_envelopes_gen(coins)\n",
    "    delivery = hand_out_gen(envelope)\n",
    "    for person in range(n):\n",
    "        next(coins)\n",
    "        next(envelope)\n",
    "        next(delivery)\n",
    "    return 'Delivery Complete'"
   ]
  },
  {
   "cell_type": "code",
   "execution_count": null,
   "metadata": {
    "hideCode": true,
    "hidePrompt": true,
    "slideshow": {
     "slide_type": "skip"
    }
   },
   "outputs": [],
   "source": [
    "def vs():\n",
    "    return print()"
   ]
  },
  {
   "cell_type": "code",
   "execution_count": null,
   "metadata": {
    "hidePrompt": true,
    "slideshow": {
     "slide_type": "subslide"
    }
   },
   "outputs": [],
   "source": [
    "%time new_year_classic(5)\n",
    "vs()\n",
    "\n",
    "%time new_year_gen(5)"
   ]
  },
  {
   "cell_type": "markdown",
   "metadata": {
    "collapsed": true,
    "hideCode": false,
    "hidePrompt": false,
    "slideshow": {
     "slide_type": "slide"
    }
   },
   "source": [
    "# Generators"
   ]
  },
  {
   "cell_type": "markdown",
   "metadata": {
    "hideCode": false,
    "hidePrompt": false
   },
   "source": [
    "<center>![](http://nvie.com/img/relationships.png)</center>"
   ]
  },
  {
   "cell_type": "markdown",
   "metadata": {
    "collapsed": true,
    "hideCode": false,
    "hidePrompt": false,
    "slideshow": {
     "slide_type": "subslide"
    }
   },
   "source": [
    "At the core of `generators` and `iterators` lie the concept of **lazy (or on-demand) evaluation**. This means that it won't evaluate the *`next`* expression until you ask it to."
   ]
  },
  {
   "cell_type": "code",
   "execution_count": 6,
   "metadata": {
    "hideCode": true,
    "hidePrompt": true
   },
   "outputs": [
    {
     "data": {
      "text/html": [
       "<center><img src=https://media.giphy.com/media/MB7K6KdwWfN7y/giphy.gif></center>"
      ],
      "text/plain": [
       "<IPython.core.display.HTML object>"
      ]
     },
     "execution_count": 6,
     "metadata": {},
     "output_type": "execute_result"
    }
   ],
   "source": [
    "from IPython.display import HTML\n",
    "\n",
    "#HTML('<center><img src=https://media.giphy.com/media/fd61KYrYcyoQo/giphy.gif></center>')\n",
    "HTML('<center><img src=https://media.giphy.com/media/MB7K6KdwWfN7y/giphy.gif></center>')"
   ]
  },
  {
   "cell_type": "markdown",
   "metadata": {
    "collapsed": true,
    "hideCode": false,
    "hidePrompt": false,
    "slideshow": {
     "slide_type": "slide"
    }
   },
   "source": [
    "## Lists vs iterators"
   ]
  },
  {
   "cell_type": "code",
   "execution_count": 21,
   "metadata": {
    "hideCode": false,
    "hidePrompt": true
   },
   "outputs": [
    {
     "name": "stdout",
     "output_type": "stream",
     "text": [
      "0\n",
      "1\n",
      "2\n",
      "3\n",
      "4\n",
      "5\n",
      "6\n",
      "7\n",
      "8\n",
      "9\n"
     ]
    }
   ],
   "source": [
    "a_list = list(range(10))\n",
    "for element in a_list:\n",
    "    print(element)"
   ]
  },
  {
   "cell_type": "markdown",
   "metadata": {
    "hideCode": false,
    "hidePrompt": false,
    "slideshow": {
     "slide_type": "subslide"
    }
   },
   "source": [
    "Now, that I have gone through all the elements of the list, what happens if I try to go back and see something?"
   ]
  },
  {
   "cell_type": "code",
   "execution_count": 22,
   "metadata": {
    "hideCode": false,
    "hidePrompt": true
   },
   "outputs": [
    {
     "name": "stdout",
     "output_type": "stream",
     "text": [
      "[0, 1, 2, 3, 4]\n"
     ]
    }
   ],
   "source": [
    "print(a_list[:5])"
   ]
  },
  {
   "cell_type": "markdown",
   "metadata": {
    "hideCode": false,
    "hidePrompt": false,
    "slideshow": {
     "slide_type": "subslide"
    }
   },
   "source": [
    "You have already seen and used *iterables* before. An example of one is seen just above: `range`"
   ]
  },
  {
   "cell_type": "code",
   "execution_count": 23,
   "metadata": {
    "hideCode": false,
    "hidePrompt": true,
    "scrolled": true
   },
   "outputs": [
    {
     "name": "stdout",
     "output_type": "stream",
     "text": [
      "0\n",
      "1\n",
      "2\n",
      "3\n",
      "4\n",
      "5\n",
      "6\n",
      "7\n",
      "8\n",
      "9\n"
     ]
    }
   ],
   "source": [
    "a_range = range(10)\n",
    "for element in a_range:\n",
    "    print(element)"
   ]
  },
  {
   "cell_type": "markdown",
   "metadata": {
    "hideCode": false,
    "hidePrompt": false,
    "slideshow": {
     "slide_type": "subslide"
    }
   },
   "source": [
    "But the key method associated with `iterators` is `next()`. Watch what happens when we call `next()` on a range."
   ]
  },
  {
   "cell_type": "code",
   "execution_count": 24,
   "metadata": {
    "hideCode": false,
    "hidePrompt": true,
    "scrolled": true
   },
   "outputs": [
    {
     "ename": "TypeError",
     "evalue": "'range' object is not an iterator",
     "output_type": "error",
     "traceback": [
      "\u001b[1;31m---------------------------------------------------------------------------\u001b[0m",
      "\u001b[1;31mTypeError\u001b[0m                                 Traceback (most recent call last)",
      "\u001b[1;32m<ipython-input-24-153c798171fc>\u001b[0m in \u001b[0;36m<module>\u001b[1;34m()\u001b[0m\n\u001b[0;32m      1\u001b[0m \u001b[0ma_range\u001b[0m \u001b[1;33m=\u001b[0m \u001b[0mrange\u001b[0m\u001b[1;33m(\u001b[0m\u001b[1;36m10\u001b[0m\u001b[1;33m)\u001b[0m\u001b[1;33m\u001b[0m\u001b[0m\n\u001b[1;32m----> 2\u001b[1;33m \u001b[0mnext\u001b[0m\u001b[1;33m(\u001b[0m\u001b[0ma_range\u001b[0m\u001b[1;33m)\u001b[0m\u001b[1;33m\u001b[0m\u001b[0m\n\u001b[0m",
      "\u001b[1;31mTypeError\u001b[0m: 'range' object is not an iterator"
     ]
    }
   ],
   "source": [
    "a_range = range(10)\n",
    "next(a_range)"
   ]
  },
  {
   "cell_type": "markdown",
   "metadata": {
    "hideCode": false,
    "hidePrompt": false,
    "slideshow": {
     "slide_type": "fragment"
    }
   },
   "source": [
    "Now what happens when I try to look back at `a_range`?"
   ]
  },
  {
   "cell_type": "code",
   "execution_count": 25,
   "metadata": {
    "hideCode": false,
    "hidePrompt": true,
    "slideshow": {
     "slide_type": "fragment"
    }
   },
   "outputs": [
    {
     "name": "stdout",
     "output_type": "stream",
     "text": [
      "range(0, 5)\n"
     ]
    }
   ],
   "source": [
    "print(a_range[:5])"
   ]
  },
  {
   "cell_type": "markdown",
   "metadata": {
    "hideCode": false,
    "hidePrompt": false,
    "slideshow": {
     "slide_type": "subslide"
    }
   },
   "source": [
    "So, `range` is iterable, but not an iterator. It also doesn't store state. Can we hack it though?"
   ]
  },
  {
   "cell_type": "code",
   "execution_count": 26,
   "metadata": {
    "hideCode": false,
    "hidePrompt": true
   },
   "outputs": [
    {
     "name": "stdout",
     "output_type": "stream",
     "text": [
      "0\n",
      "1\n",
      "2\n",
      "3\n",
      "4\n"
     ]
    }
   ],
   "source": [
    "# iter() makes any iterable an iterator (if it has a __iter__ and __next__ method)\n",
    "b_range = iter(range(10))\n",
    "for i in range(5):\n",
    "    print(next(b_range))"
   ]
  },
  {
   "cell_type": "markdown",
   "metadata": {
    "hideCode": false,
    "hidePrompt": false,
    "slideshow": {
     "slide_type": "subslide"
    }
   },
   "source": [
    "`iterators` are *consumed* when they have been processed. They cannot go backwards, and they preserve no state after completion. However, think of this more as a feature than a fault."
   ]
  },
  {
   "cell_type": "markdown",
   "metadata": {
    "hideCode": false,
    "hidePrompt": false,
    "slideshow": {
     "slide_type": "slide"
    }
   },
   "source": [
    "## What are some use cases for ***not*** wanting to keep all of your data?"
   ]
  },
  {
   "cell_type": "code",
   "execution_count": 27,
   "metadata": {
    "hideCode": false,
    "hidePrompt": true,
    "slideshow": {
     "slide_type": "subslide"
    }
   },
   "outputs": [],
   "source": [
    "# Classic prime number example of an iterator\n",
    "def check_prime(number):\n",
    "    for divisor in range(2, int(number ** 0.5) + 1):\n",
    "        if number % divisor == 0:\n",
    "            return False\n",
    "    return True"
   ]
  },
  {
   "cell_type": "code",
   "execution_count": 28,
   "metadata": {
    "hidePrompt": true,
    "slideshow": {
     "slide_type": "subslide"
    }
   },
   "outputs": [],
   "source": [
    "class Primes:\n",
    "    def __init__(self, max_number):\n",
    "        self.max = max_number\n",
    "        self.number = 1\n",
    "\n",
    "    def __iter__(self):\n",
    "        return self\n",
    "\n",
    "    def __next__(self):\n",
    "        self.number += 1\n",
    "        if self.number >= self.max:\n",
    "            raise StopIteration\n",
    "        elif check_prime(self.number):\n",
    "            return self.number\n",
    "        else:\n",
    "            return self.__next__()"
   ]
  },
  {
   "cell_type": "code",
   "execution_count": 30,
   "metadata": {
    "hideCode": false,
    "hidePrompt": true,
    "slideshow": {
     "slide_type": "subslide"
    }
   },
   "outputs": [],
   "source": [
    "# Instantiate the iterator\n",
    "primes = Primes(100000000000)"
   ]
  },
  {
   "cell_type": "code",
   "execution_count": 31,
   "metadata": {
    "hidePrompt": true
   },
   "outputs": [
    {
     "name": "stdout",
     "output_type": "stream",
     "text": [
      "<__main__.Primes object at 0x000001BE6D5F3E10>\n"
     ]
    }
   ],
   "source": [
    "# primes is an iterator, not a list of values...it waits to compute the next value\n",
    "print(primes)"
   ]
  },
  {
   "cell_type": "code",
   "execution_count": 32,
   "metadata": {
    "hidePrompt": true
   },
   "outputs": [
    {
     "name": "stdout",
     "output_type": "stream",
     "text": [
      "2\n",
      "3\n",
      "5\n",
      "7\n",
      "11\n",
      "13\n",
      "17\n",
      "19\n",
      "23\n",
      "29\n",
      "31\n",
      "37\n",
      "41\n",
      "43\n",
      "47\n",
      "53\n",
      "59\n",
      "61\n",
      "67\n",
      "71\n",
      "73\n",
      "79\n",
      "83\n",
      "89\n",
      "97\n",
      "101\n",
      "103\n",
      "107\n",
      "109\n",
      "113\n",
      "127\n",
      "131\n",
      "137\n",
      "139\n",
      "149\n",
      "151\n",
      "157\n",
      "163\n",
      "167\n",
      "173\n",
      "179\n",
      "181\n",
      "191\n",
      "193\n",
      "197\n",
      "199\n",
      "211\n",
      "223\n",
      "227\n",
      "229\n",
      "233\n",
      "239\n",
      "241\n",
      "251\n",
      "257\n",
      "263\n",
      "269\n",
      "271\n",
      "277\n",
      "281\n",
      "283\n",
      "293\n",
      "307\n",
      "311\n",
      "313\n",
      "317\n",
      "331\n",
      "337\n",
      "347\n",
      "349\n",
      "353\n",
      "359\n",
      "367\n",
      "373\n",
      "379\n",
      "383\n",
      "389\n",
      "397\n",
      "401\n",
      "409\n",
      "419\n",
      "421\n",
      "431\n",
      "433\n",
      "439\n",
      "443\n",
      "449\n",
      "457\n",
      "461\n",
      "463\n",
      "467\n",
      "479\n",
      "487\n",
      "491\n",
      "499\n",
      "503\n",
      "509\n",
      "521\n",
      "523\n",
      "541\n",
      "547\n"
     ]
    }
   ],
   "source": [
    "# Compute the next value without storing it\n",
    "i = 0\n",
    "for x in primes:\n",
    "    if i > 100:\n",
    "        break\n",
    "    print(x)\n",
    "    i += 1"
   ]
  },
  {
   "cell_type": "markdown",
   "metadata": {
    "hideCode": false,
    "hidePrompt": false,
    "slideshow": {
     "slide_type": "subslide"
    }
   },
   "source": [
    "The defining traits of `generators` is that they produce a sequence of results instead of a single value and they preserve ***state***.<br/>\n",
    "This means that after every time the `generator` gives control back to the user, it keeps it stores its parameter space."
   ]
  },
  {
   "cell_type": "code",
   "execution_count": 33,
   "metadata": {
    "hideCode": false,
    "hidePrompt": true
   },
   "outputs": [],
   "source": [
    "# Plain file reader\n",
    "def opener(file_path, obj_type, r_or_w = 'r', delimiter = '\\t'):\n",
    "    with open(file_path, r_or_w) as infile:\n",
    "        for line in infile:\n",
    "            row = [obj_type(i) for i in line.strip().split(delimiter)]\n",
    "            yield row"
   ]
  },
  {
   "cell_type": "markdown",
   "metadata": {
    "hideCode": false,
    "hidePrompt": false
   },
   "source": [
    "You should have seen a very different keyword than normally used: `yield`<br/>\n",
    "`yield` is only used in `generators` and has a specific use<br/>\n",
    "It allows the function to temporarily hand control back to the user."
   ]
  },
  {
   "cell_type": "code",
   "execution_count": 34,
   "metadata": {
    "hideCode": false,
    "hidePrompt": true,
    "slideshow": {
     "slide_type": "subslide"
    }
   },
   "outputs": [
    {
     "data": {
      "text/plain": [
       "[1.0, 2.0, 3.0, 4.0, 5.0]"
      ]
     },
     "execution_count": 34,
     "metadata": {},
     "output_type": "execute_result"
    }
   ],
   "source": [
    "array = opener('./attached/test_array.dat', float)\n",
    "next(array) # This \"primes\" the generator to start working."
   ]
  },
  {
   "cell_type": "code",
   "execution_count": 39,
   "metadata": {
    "hideCode": false,
    "hidePrompt": true
   },
   "outputs": [
    {
     "ename": "StopIteration",
     "evalue": "",
     "output_type": "error",
     "traceback": [
      "\u001b[1;31m---------------------------------------------------------------------------\u001b[0m",
      "\u001b[1;31mStopIteration\u001b[0m                             Traceback (most recent call last)",
      "\u001b[1;32m<ipython-input-39-ef001dae1d71>\u001b[0m in \u001b[0;36m<module>\u001b[1;34m()\u001b[0m\n\u001b[0;32m      1\u001b[0m \u001b[1;31m# Let's start working\u001b[0m\u001b[1;33m\u001b[0m\u001b[1;33m\u001b[0m\u001b[0m\n\u001b[1;32m----> 2\u001b[1;33m \u001b[0mprint\u001b[0m\u001b[1;33m(\u001b[0m\u001b[0mnext\u001b[0m\u001b[1;33m(\u001b[0m\u001b[0marray\u001b[0m\u001b[1;33m)\u001b[0m\u001b[1;33m)\u001b[0m\u001b[1;33m\u001b[0m\u001b[0m\n\u001b[0m",
      "\u001b[1;31mStopIteration\u001b[0m: "
     ]
    }
   ],
   "source": [
    "# Let's start working\n",
    "print(next(array))"
   ]
  },
  {
   "cell_type": "markdown",
   "metadata": {
    "hideCode": false,
    "hidePrompt": false
   },
   "source": [
    "The first time a `next()` function is used to get the `generator` warmed up. <br/>\n",
    "After that, `next()` just tells the `generator` to go till the next `yield`"
   ]
  },
  {
   "cell_type": "code",
   "execution_count": 40,
   "metadata": {
    "hideCode": false,
    "hidePrompt": true,
    "slideshow": {
     "slide_type": "subslide"
    }
   },
   "outputs": [],
   "source": [
    "# Multiple inline yields\n",
    "def printer():\n",
    "    i = 0\n",
    "    yield 'Starting'\n",
    "    for i in range(3):\n",
    "        yield f'{i}'\n",
    "    yield 'Complete'"
   ]
  },
  {
   "cell_type": "code",
   "execution_count": 41,
   "metadata": {
    "hideCode": false,
    "hidePrompt": true,
    "slideshow": {
     "slide_type": "subslide"
    }
   },
   "outputs": [
    {
     "name": "stdout",
     "output_type": "stream",
     "text": [
      "Starting\n"
     ]
    }
   ],
   "source": [
    "example = printer()\n",
    "print(next(example))"
   ]
  },
  {
   "cell_type": "code",
   "execution_count": 42,
   "metadata": {
    "hideCode": false,
    "hidePrompt": true
   },
   "outputs": [
    {
     "name": "stdout",
     "output_type": "stream",
     "text": [
      "0\n",
      "1\n",
      "2\n"
     ]
    }
   ],
   "source": [
    "for i in range(3):\n",
    "    print(next(example))"
   ]
  },
  {
   "cell_type": "code",
   "execution_count": 44,
   "metadata": {
    "hideCode": false,
    "hidePrompt": true
   },
   "outputs": [
    {
     "ename": "StopIteration",
     "evalue": "",
     "output_type": "error",
     "traceback": [
      "\u001b[1;31m---------------------------------------------------------------------------\u001b[0m",
      "\u001b[1;31mStopIteration\u001b[0m                             Traceback (most recent call last)",
      "\u001b[1;32m<ipython-input-44-93eba2cb67ec>\u001b[0m in \u001b[0;36m<module>\u001b[1;34m()\u001b[0m\n\u001b[1;32m----> 1\u001b[1;33m \u001b[0mprint\u001b[0m\u001b[1;33m(\u001b[0m\u001b[0mnext\u001b[0m\u001b[1;33m(\u001b[0m\u001b[0mexample\u001b[0m\u001b[1;33m)\u001b[0m\u001b[1;33m)\u001b[0m\u001b[1;33m\u001b[0m\u001b[0m\n\u001b[0m",
      "\u001b[1;31mStopIteration\u001b[0m: "
     ]
    }
   ],
   "source": [
    "print(next(example))"
   ]
  },
  {
   "cell_type": "markdown",
   "metadata": {
    "hideCode": false,
    "hidePrompt": false,
    "slideshow": {
     "slide_type": "slide"
    }
   },
   "source": [
    "# Coroutines: generators that both receive values"
   ]
  },
  {
   "cell_type": "code",
   "execution_count": 45,
   "metadata": {
    "hideCode": false,
    "hidePrompt": true,
    "slideshow": {
     "slide_type": "subslide"
    }
   },
   "outputs": [],
   "source": [
    "# Incrementer with break case\n",
    "def grep(pattern):\n",
    "    print(f'Looking for {pattern}')\n",
    "    while True:\n",
    "        entry = yield\n",
    "        if pattern in entry:\n",
    "            print(f\"{pattern} found. You're awesome, yay and stuff...\")\n",
    "        else:\n",
    "            print(f'\"{entry}\" is not \"{pattern}\" is it? Try again')"
   ]
  },
  {
   "cell_type": "code",
   "execution_count": 46,
   "metadata": {
    "hideCode": false,
    "hidePrompt": true
   },
   "outputs": [
    {
     "name": "stdout",
     "output_type": "stream",
     "text": [
      "Looking for gen\n"
     ]
    }
   ],
   "source": [
    "finder = grep('gen')\n",
    "next(finder)"
   ]
  },
  {
   "cell_type": "code",
   "execution_count": 51,
   "metadata": {
    "hideCode": false,
    "hidePrompt": true
   },
   "outputs": [],
   "source": [
    "finder.close()"
   ]
  },
  {
   "cell_type": "code",
   "execution_count": 52,
   "metadata": {
    "hideCode": false,
    "hidePrompt": true
   },
   "outputs": [
    {
     "ename": "StopIteration",
     "evalue": "",
     "output_type": "error",
     "traceback": [
      "\u001b[1;31m---------------------------------------------------------------------------\u001b[0m",
      "\u001b[1;31mStopIteration\u001b[0m                             Traceback (most recent call last)",
      "\u001b[1;32m<ipython-input-52-0c7d730159dc>\u001b[0m in \u001b[0;36m<module>\u001b[1;34m()\u001b[0m\n\u001b[1;32m----> 1\u001b[1;33m \u001b[0mfinder\u001b[0m\u001b[1;33m.\u001b[0m\u001b[0msend\u001b[0m\u001b[1;33m(\u001b[0m\u001b[1;34m\"generators are cool\"\u001b[0m\u001b[1;33m)\u001b[0m\u001b[1;33m\u001b[0m\u001b[0m\n\u001b[0m",
      "\u001b[1;31mStopIteration\u001b[0m: "
     ]
    }
   ],
   "source": [
    "finder.send(\"generators are cool\")"
   ]
  },
  {
   "cell_type": "markdown",
   "metadata": {
    "hideCode": false,
    "hidePrompt": false,
    "slideshow": {
     "slide_type": "slide"
    }
   },
   "source": [
    "# Generator expressions"
   ]
  },
  {
   "cell_type": "markdown",
   "metadata": {
    "hideCode": false,
    "hidePrompt": false
   },
   "source": [
    "To top finish off the lession, let's combine what we learned about list comprehensions and generators to make a generator expression"
   ]
  },
  {
   "cell_type": "code",
   "execution_count": 53,
   "metadata": {
    "hideCode": false,
    "hidePrompt": true,
    "slideshow": {
     "slide_type": "subslide"
    }
   },
   "outputs": [
    {
     "name": "stdout",
     "output_type": "stream",
     "text": [
      "Wall time: 5.91 s\n"
     ]
    }
   ],
   "source": [
    "%%time\n",
    "# stadard list appending\n",
    "limit = 1e14\n",
    "i = 0\n",
    "make_squares = []\n",
    "while True:\n",
    "    entry = i ** 2\n",
    "    if entry > limit:\n",
    "        break\n",
    "    else:\n",
    "        make_squares.append(entry)\n",
    "    i += 1"
   ]
  },
  {
   "cell_type": "code",
   "execution_count": 54,
   "metadata": {
    "hideCode": false,
    "hidePrompt": true,
    "slideshow": {
     "slide_type": "subslide"
    }
   },
   "outputs": [
    {
     "name": "stdout",
     "output_type": "stream",
     "text": [
      "Wall time: 3.36 s\n"
     ]
    }
   ],
   "source": [
    "%%time\n",
    "# list comprehension\n",
    "squares = [x ** 2 for x in range(len(make_squares))]"
   ]
  },
  {
   "cell_type": "code",
   "execution_count": 55,
   "metadata": {
    "hideCode": false,
    "hidePrompt": true,
    "slideshow": {
     "slide_type": "subslide"
    }
   },
   "outputs": [
    {
     "name": "stdout",
     "output_type": "stream",
     "text": [
      "Wall time: 0 ns\n"
     ]
    }
   ],
   "source": [
    "%%time\n",
    "# Generator expression\n",
    "sq = (x**2 for x in range(len(make_squares)))"
   ]
  },
  {
   "cell_type": "markdown",
   "metadata": {
    "hideCode": false,
    "hidePrompt": false,
    "slideshow": {
     "slide_type": "fragment"
    }
   },
   "source": [
    "### Would you look at that?!? Wow, that is fast...wait, I tricked you. Generators are lazy, and so are generator expressions"
   ]
  },
  {
   "cell_type": "code",
   "execution_count": 56,
   "metadata": {
    "hideCode": false,
    "hidePrompt": true,
    "slideshow": {
     "slide_type": "subslide"
    }
   },
   "outputs": [],
   "source": [
    "# Make an expression infinitely loopable\n",
    "def fake_while_loop():\n",
    "    i = 0\n",
    "    while True:\n",
    "        yield i\n",
    "        i += 1\n",
    "\n",
    "# set up my fake while loop\n",
    "whl = fake_while_loop()\n",
    "\n",
    "# Now, yield every square one at a time.\n",
    "sqs = (x**2 for x in whl)"
   ]
  },
  {
   "cell_type": "code",
   "execution_count": 57,
   "metadata": {
    "hideCode": false,
    "hidePrompt": true,
    "slideshow": {
     "slide_type": "fragment"
    }
   },
   "outputs": [
    {
     "data": {
      "text/plain": [
       "<generator object <genexpr> at 0x000001BE00FEFAF0>"
      ]
     },
     "execution_count": 57,
     "metadata": {},
     "output_type": "execute_result"
    }
   ],
   "source": [
    "# Let' use it\n",
    "sqs"
   ]
  },
  {
   "cell_type": "code",
   "execution_count": 59,
   "metadata": {
    "hideCode": false,
    "hidePrompt": true,
    "slideshow": {
     "slide_type": "fragment"
    }
   },
   "outputs": [
    {
     "ename": "KeyboardInterrupt",
     "evalue": "",
     "output_type": "error",
     "traceback": [
      "\u001b[1;31m---------------------------------------------------------------------------\u001b[0m",
      "\u001b[1;31mKeyboardInterrupt\u001b[0m                         Traceback (most recent call last)",
      "\u001b[1;32m<timed exec>\u001b[0m in \u001b[0;36m<module>\u001b[1;34m()\u001b[0m\n",
      "\u001b[1;31mKeyboardInterrupt\u001b[0m: "
     ]
    }
   ],
   "source": [
    "%%time\n",
    "# Okay, let's try that again\n",
    "for i in range(int(1e14)):\n",
    "    next(sqs)"
   ]
  },
  {
   "cell_type": "markdown",
   "metadata": {
    "hideCode": false,
    "hidePrompt": false,
    "slideshow": {
     "slide_type": "subslide"
    }
   },
   "source": [
    "## Wait, the iteratable `range` could be consumed by `list` and `sum`, and generators are iterables, can you consume a generator?"
   ]
  },
  {
   "cell_type": "code",
   "execution_count": 60,
   "metadata": {
    "hideCode": false,
    "hidePrompt": true,
    "slideshow": {
     "slide_type": "fragment"
    }
   },
   "outputs": [
    {
     "name": "stdout",
     "output_type": "stream",
     "text": [
      "328350\n",
      "[0, 1, 4, 9, 16, 25, 36, 49, 64, 81, 100, 121, 144, 169, 196, 225, 256, 289, 324, 361, 400, 441, 484, 529, 576]\n"
     ]
    }
   ],
   "source": [
    "print(sum(x**2 for x in range(100)))\n",
    "\n",
    "S = list(x**2 for x in range(1000))\n",
    "print(S[:25])"
   ]
  },
  {
   "cell_type": "markdown",
   "metadata": {
    "slideshow": {
     "slide_type": "fragment"
    }
   },
   "source": [
    "If the last example looks kind of familiar, it is the first example we looked at for using list comprehensions. By using a generator expression that is consumed by `list`, we made our own list comprehension"
   ]
  },
  {
   "cell_type": "markdown",
   "metadata": {
    "slideshow": {
     "slide_type": "slide"
    }
   },
   "source": [
    "# Conclusions"
   ]
  },
  {
   "cell_type": "markdown",
   "metadata": {},
   "source": [
    "1. List comprehensions can compress simple for loops down to a single line\n",
    "2. List comprehensions tend to be more efficient than standard for loops when the data is sufficiently large\n",
    "3. The same syntax to make a list comprehension can be used to make dictionarys, sets, and generators\n",
    "4. Generators are iterators that lazily evaluate the next value and `yield` it back\n",
    "5. Generators can receive values, as well and `yield` them\n",
    "6. Once a generator (or any iterator) is consumed when complete\n",
    "7. Custom coroutines have to be 'primed' once before use"
   ]
  },
  {
   "cell_type": "markdown",
   "metadata": {
    "slideshow": {
     "slide_type": "slide"
    }
   },
   "source": [
    "# Advanced Coroutines"
   ]
  },
  {
   "cell_type": "markdown",
   "metadata": {
    "slideshow": {
     "slide_type": "fragment"
    }
   },
   "source": [
    "**Disclaimer**: I briefly discuss the decorator seen next. However, there are a lot more to decorators than the scope of this lecture can cover. If you do not understand the next part, don't worry: we are not expecting you to know them yet. We are using them here for presentation purposes only."
   ]
  },
  {
   "cell_type": "code",
   "execution_count": 61,
   "metadata": {
    "hidePrompt": true,
    "slideshow": {
     "slide_type": "subslide"
    }
   },
   "outputs": [],
   "source": [
    "# Make a decorator that automatically primes coroutine\n",
    "def coroutine(func):\n",
    "    def start(*args,**kwargs):\n",
    "        cr = func(*args,**kwargs)\n",
    "        next(cr)\n",
    "        return cr\n",
    "    return start"
   ]
  },
  {
   "cell_type": "code",
   "execution_count": 62,
   "metadata": {
    "hidePrompt": true,
    "slideshow": {
     "slide_type": "subslide"
    }
   },
   "outputs": [
    {
     "name": "stdout",
     "output_type": "stream",
     "text": [
      "The average for the row is 3.0\n",
      "The average for the row is 8.0\n",
      "The average for the row is 13.0\n",
      "The average for the row is 18.0\n",
      "The average for the row is 23.0\n"
     ]
    }
   ],
   "source": [
    "# iterate through an array\n",
    "@coroutine\n",
    "def formatter(target):\n",
    "    while True:\n",
    "        entry = yield\n",
    "        target.send([float(i) for i in line.strip().split('\\t')])\n",
    "    \n",
    "@coroutine\n",
    "def row_mean(target):\n",
    "    while True:\n",
    "        row = yield\n",
    "        target.send(sum(row)/len(row))\n",
    "\n",
    "@coroutine\n",
    "def cool_printer():\n",
    "    while True:\n",
    "        content = yield\n",
    "        print(f'The average for the row is {content}')\n",
    "\n",
    "cp = cool_printer()\n",
    "avg = row_mean(cp)\n",
    "f = formatter(avg)        \n",
    "with open('./attached/test_array.dat', 'r') as infile:\n",
    "        for line in infile:\n",
    "            f.send(line)"
   ]
  }
 ],
 "metadata": {
  "celltoolbar": "Hide code",
  "hide_code_all_hidden": false,
  "kernelspec": {
   "display_name": "Python 3",
   "language": "python",
   "name": "python3"
  },
  "language_info": {
   "codemirror_mode": {
    "name": "ipython",
    "version": 3
   },
   "file_extension": ".py",
   "mimetype": "text/x-python",
   "name": "python",
   "nbconvert_exporter": "python",
   "pygments_lexer": "ipython3",
   "version": "3.6.4"
  }
 },
 "nbformat": 4,
 "nbformat_minor": 2
}
