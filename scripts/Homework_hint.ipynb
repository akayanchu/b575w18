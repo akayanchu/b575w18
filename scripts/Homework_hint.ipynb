{
 "cells": [
  {
   "cell_type": "markdown",
   "metadata": {},
   "source": [
    "# Working with Lists"
   ]
  },
  {
   "cell_type": "markdown",
   "metadata": {},
   "source": [
    "As we all know, <font color='green'>lists</font> are an important part of handling data effectively. Therefore, we are going to take a quick look of some common <font color='red'>tricks</font> Python programmers use when dealing with lists."
   ]
  },
  {
   "cell_type": "markdown",
   "metadata": {},
   "source": [
    "## Different list instantiation techniques"
   ]
  },
  {
   "cell_type": "code",
   "execution_count": 5,
   "metadata": {},
   "outputs": [
    {
     "name": "stdout",
     "output_type": "stream",
     "text": [
      "[]\n",
      "['lst_b', 'lst_b', 'lst_b', 'lst_b', 'lst_b', 'lst_b', 'lst_b', 'lst_b', 'lst_b', 'lst_b']\n",
      "['lst_b', 'lst_b', 'lst_b', 'lst_b', 'lst_b', 'lst_b', 'lst_b', 'lst_b', 'lst_b', 'lst_b']\n",
      "[0, 1, 2, 3, 4, 5, 6, 7, 8, 9]\n"
     ]
    }
   ],
   "source": [
    "# make an empty list\n",
    "lst_a = []\n",
    "print(lst_a)\n",
    "\n",
    "# make a list of a any given length filled with any given object\n",
    "lst_b = [\"lst_b\"] * 10\n",
    "print(lst_b)\n",
    "\n",
    "# make a copy of any other list\n",
    "lst_c = lst_b[:]\n",
    "print(lst_c)\n",
    "\n",
    "# Generate a list from an iterator/generator\n",
    "lst_d = list(range(10))\n",
    "print(lst_d)"
   ]
  },
  {
   "cell_type": "markdown",
   "metadata": {},
   "source": [
    "## List indexing"
   ]
  },
  {
   "cell_type": "markdown",
   "metadata": {},
   "source": [
    "Indexing is when you select specific elements from within a list by their 0-based position (e.g. 5th item in the list is 4)"
   ]
  },
  {
   "cell_type": "code",
   "execution_count": 8,
   "metadata": {},
   "outputs": [
    {
     "name": "stdout",
     "output_type": "stream",
     "text": [
      "2\n",
      "9\n",
      "[2, 3, 4, 5]\n",
      "[5, 6, 7, 8, 9]\n"
     ]
    }
   ],
   "source": [
    "# Let's use lst_d from above as our test data\n",
    "example = lst_d\n",
    "\n",
    "# get the 3rd element of the list\n",
    "print(example[2])\n",
    "\n",
    "# get the last element\n",
    "print(example[-1])\n",
    "\n",
    "# get a 'slice' of values\n",
    "print(example[2:6])\n",
    "\n",
    "# get the second half of the list\n",
    "back_half = example[ int(len(example)/2):]\n",
    "print(back_half)"
   ]
  },
  {
   "cell_type": "markdown",
   "metadata": {},
   "source": [
    "However, if you try to index something that isn't there, you will get an error"
   ]
  },
  {
   "cell_type": "code",
   "execution_count": 9,
   "metadata": {},
   "outputs": [
    {
     "ename": "IndexError",
     "evalue": "list index out of range",
     "output_type": "error",
     "traceback": [
      "\u001b[0;31m---------------------------------------------------------------------------\u001b[0m",
      "\u001b[0;31mIndexError\u001b[0m                                Traceback (most recent call last)",
      "\u001b[0;32m<ipython-input-9-c90c31ba5c6d>\u001b[0m in \u001b[0;36m<module>\u001b[0;34m()\u001b[0m\n\u001b[1;32m      1\u001b[0m \u001b[0mtest\u001b[0m \u001b[0;34m=\u001b[0m \u001b[0;34m[\u001b[0m\u001b[0;34m]\u001b[0m\u001b[0;34m\u001b[0m\u001b[0m\n\u001b[0;32m----> 2\u001b[0;31m \u001b[0mprint\u001b[0m\u001b[0;34m(\u001b[0m\u001b[0mtest\u001b[0m\u001b[0;34m[\u001b[0m\u001b[0;36m1\u001b[0m\u001b[0;34m]\u001b[0m\u001b[0;34m)\u001b[0m\u001b[0;34m\u001b[0m\u001b[0m\n\u001b[0m",
      "\u001b[0;31mIndexError\u001b[0m: list index out of range"
     ]
    }
   ],
   "source": [
    "test = []\n",
    "print(test[1])"
   ]
  },
  {
   "cell_type": "markdown",
   "metadata": {},
   "source": [
    "## for loops on lists"
   ]
  },
  {
   "cell_type": "markdown",
   "metadata": {},
   "source": [
    "Many times, we want to go through each item of a list. This is called iteration. There are many ways to iterate, but let's focus on `for loop`s for now. For the sake of being explicit, the below example is a very verbose way of going through a list by each item."
   ]
  },
  {
   "cell_type": "code",
   "execution_count": 11,
   "metadata": {},
   "outputs": [
    {
     "name": "stdout",
     "output_type": "stream",
     "text": [
      "0\n",
      "1\n",
      "2\n",
      "keep going until i == len(example)\n"
     ]
    }
   ],
   "source": [
    "# verbose example\n",
    "i = 0\n",
    "print(example[i])\n",
    "i += 1\n",
    "print(example[i])\n",
    "i += 1\n",
    "print(example[i])\n",
    "print('keep going until i == len(example)')"
   ]
  },
  {
   "cell_type": "markdown",
   "metadata": {},
   "source": [
    "The above example is equivalent and easier to understand using a for loop"
   ]
  },
  {
   "cell_type": "code",
   "execution_count": 12,
   "metadata": {},
   "outputs": [
    {
     "name": "stdout",
     "output_type": "stream",
     "text": [
      "0\n",
      "1\n",
      "2\n",
      "3\n",
      "4\n",
      "5\n",
      "6\n",
      "7\n",
      "8\n",
      "9\n"
     ]
    }
   ],
   "source": [
    "for element in example:\n",
    "    print(element)"
   ]
  },
  {
   "cell_type": "markdown",
   "metadata": {},
   "source": [
    "However, you can also iterate by index. I will call this trick the 'ren' technique...it is a combination of `range` and `len`"
   ]
  },
  {
   "cell_type": "code",
   "execution_count": 13,
   "metadata": {},
   "outputs": [
    {
     "name": "stdout",
     "output_type": "stream",
     "text": [
      "0\n",
      "1\n",
      "2\n",
      "3\n",
      "4\n",
      "5\n",
      "6\n",
      "7\n",
      "8\n",
      "9\n"
     ]
    }
   ],
   "source": [
    "for i in range(len(example)):\n",
    "    print(example[i])"
   ]
  },
  {
   "cell_type": "markdown",
   "metadata": {},
   "source": [
    "Now, let's think about why you would ever want to use the 'ren' method? It is helpful when you are trying to synchronize iteration between two or more equally sized objects.<br />\n",
    "You see, if you were to iterate through one list via a `for loop` and then iterate through another within the `for loop` you would get something like this:"
   ]
  },
  {
   "cell_type": "code",
   "execution_count": 1,
   "metadata": {},
   "outputs": [
    {
     "name": "stdout",
     "output_type": "stream",
     "text": [
      "0 a\n",
      "0 b\n",
      "0 c\n",
      "0 d\n",
      "0 e\n",
      "1 a\n",
      "1 b\n",
      "1 c\n",
      "1 d\n",
      "1 e\n",
      "2 a\n",
      "2 b\n",
      "2 c\n",
      "2 d\n",
      "2 e\n",
      "3 a\n",
      "3 b\n",
      "3 c\n",
      "3 d\n",
      "3 e\n",
      "4 a\n",
      "4 b\n",
      "4 c\n",
      "4 d\n",
      "4 e\n"
     ]
    }
   ],
   "source": [
    "example_1 = list(range(5))\n",
    "example_2 = 'abcde'\n",
    "\n",
    "for element_1 in example_1:\n",
    "    for element_2 in example_2:\n",
    "        print(element_1, element_2)"
   ]
  },
  {
   "cell_type": "markdown",
   "metadata": {},
   "source": [
    "See, the objects that we were iterating through were not 'synchronized' together. Everytime we went to the next element in `example_1`, we iterated through EVERY element of `example_2`. <br\\> However, if we use 'ren' method, we can go through *both* objects at the same time."
   ]
  },
  {
   "cell_type": "code",
   "execution_count": 4,
   "metadata": {},
   "outputs": [
    {
     "name": "stdout",
     "output_type": "stream",
     "text": [
      "0 a\n",
      "1 b\n",
      "2 c\n",
      "3 d\n",
      "4 e\n"
     ]
    }
   ],
   "source": [
    "for i in range(len(example_1)):\n",
    "    print(example_1[i], example_2[i])"
   ]
  },
  {
   "cell_type": "markdown",
   "metadata": {},
   "source": [
    "## It gets better though"
   ]
  },
  {
   "cell_type": "markdown",
   "metadata": {},
   "source": [
    "Jeff taught you about using `zip` to bring together 2 iterable objects."
   ]
  },
  {
   "cell_type": "code",
   "execution_count": 17,
   "metadata": {},
   "outputs": [
    {
     "name": "stdout",
     "output_type": "stream",
     "text": [
      "[(0, 'a'), (1, 'b'), (2, 'c'), (3, 'd'), (4, 'e')]\n"
     ]
    }
   ],
   "source": [
    "example_3 = list(zip(example_1, example_2))\n",
    "print(example_3)"
   ]
  },
  {
   "cell_type": "markdown",
   "metadata": {},
   "source": [
    "With this, we can use a regular `for loop` to get each item of the list, but now the item will be a `tuple` containing an item from each of the original iterator objects."
   ]
  },
  {
   "cell_type": "code",
   "execution_count": 19,
   "metadata": {},
   "outputs": [
    {
     "name": "stdout",
     "output_type": "stream",
     "text": [
      "(0, 'a')\n",
      "(1, 'b')\n",
      "(2, 'c')\n",
      "(3, 'd')\n",
      "(4, 'e')\n"
     ]
    }
   ],
   "source": [
    "for element in example_3:\n",
    "    print(element)"
   ]
  },
  {
   "cell_type": "markdown",
   "metadata": {},
   "source": [
    "However, you can use indexing on this `tuple`s as well, to get each item individually"
   ]
  },
  {
   "cell_type": "code",
   "execution_count": 20,
   "metadata": {},
   "outputs": [
    {
     "name": "stdout",
     "output_type": "stream",
     "text": [
      "0 a\n",
      "1 b\n",
      "2 c\n",
      "3 d\n",
      "4 e\n"
     ]
    }
   ],
   "source": [
    "for element in example_3:\n",
    "    print(element[0], element[1])"
   ]
  },
  {
   "cell_type": "markdown",
   "metadata": {},
   "source": [
    "\n",
    "Finally, we have the best function ever...okay, maybe not *ever*, but it is still pretty good:`enumerate`. `enumerate` is a built in function that iterates through an object and `returns` a `tuple`. However, this `tuple` is special in that the first item of the `tuple` is the index of the item and the second is the element itself.<br/><br/>\n",
    "Now, pay special attention to this syntax (called tuple unpacking). Traditionally, you would see something like this when using a regular `for loop`."
   ]
  },
  {
   "cell_type": "code",
   "execution_count": 22,
   "metadata": {},
   "outputs": [],
   "source": [
    "for i in example_3:\n",
    "    pass"
   ]
  },
  {
   "cell_type": "markdown",
   "metadata": {},
   "source": [
    "Using `enumerate`, the syntax is as follows:"
   ]
  },
  {
   "cell_type": "code",
   "execution_count": 23,
   "metadata": {},
   "outputs": [
    {
     "name": "stdout",
     "output_type": "stream",
     "text": [
      "0 a\n",
      "1 b\n",
      "2 c\n",
      "3 d\n",
      "4 e\n"
     ]
    }
   ],
   "source": [
    "for index, element in enumerate(example_1):\n",
    "    print(element, example_2[index])"
   ]
  },
  {
   "cell_type": "markdown",
   "metadata": {},
   "source": [
    "The `index` and `element` variables unpack the `tuple` that is given by `enumerate`. Using a traditional `for loop` on `enumerate` would look like this:"
   ]
  },
  {
   "cell_type": "code",
   "execution_count": 24,
   "metadata": {},
   "outputs": [
    {
     "name": "stdout",
     "output_type": "stream",
     "text": [
      "(0, 0)\n",
      "(1, 1)\n",
      "(2, 2)\n",
      "(3, 3)\n",
      "(4, 4)\n"
     ]
    }
   ],
   "source": [
    "for tup in enumerate(example_1):\n",
    "    print(tup)"
   ]
  },
  {
   "cell_type": "markdown",
   "metadata": {},
   "source": [
    "This is still helpful if you use `tuple` indexing to get the information you want out of the `tuple`"
   ]
  },
  {
   "cell_type": "code",
   "execution_count": 25,
   "metadata": {},
   "outputs": [
    {
     "name": "stdout",
     "output_type": "stream",
     "text": [
      "0 a\n",
      "1 b\n",
      "2 c\n",
      "3 d\n",
      "4 e\n"
     ]
    }
   ],
   "source": [
    "for tup in enumerate(example_1):\n",
    "    print(tup[1], example_2[tup[0]])"
   ]
  },
  {
   "cell_type": "markdown",
   "metadata": {},
   "source": [
    "# Hope this helps"
   ]
  },
  {
   "cell_type": "markdown",
   "metadata": {},
   "source": [
    "It is alway ***very important*** to make sure that what happens in the `for loop`, stays in the `for loop`. If you forget to dedent out of the `for loop`, you will do whatever is there as many times as the `for loop` loops."
   ]
  },
  {
   "cell_type": "code",
   "execution_count": null,
   "metadata": {},
   "outputs": [],
   "source": [
    "# just run the following to see what I mean\n",
    "for i in range(1000):\n",
    "    for j in range(100):\n",
    "        for k in range(10):\n",
    "            print(i,j,k)"
   ]
  }
 ],
 "metadata": {
  "kernelspec": {
   "display_name": "Python 3",
   "language": "python",
   "name": "python3"
  },
  "language_info": {
   "codemirror_mode": {
    "name": "ipython",
    "version": 3
   },
   "file_extension": ".py",
   "mimetype": "text/x-python",
   "name": "python",
   "nbconvert_exporter": "python",
   "pygments_lexer": "ipython3",
   "version": "3.6.4"
  }
 },
 "nbformat": 4,
 "nbformat_minor": 2
}
