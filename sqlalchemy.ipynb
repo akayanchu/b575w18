{
 "cells": [
  {
   "cell_type": "code",
   "execution_count": 1,
   "metadata": {},
   "outputs": [],
   "source": [
    "import os\n",
    "import sys\n",
    "from sqlalchemy import create_engine\n",
    "from sqlalchemy import Column, INTEGER, TEXT, NUMERIC, REAL, ForeignKey\n",
    "from sqlalchemy.ext.declarative import declarative_base\n",
    "from sqlalchemy.orm import sessionmaker\n",
    "from urllib.parse import unquote"
   ]
  },
  {
   "cell_type": "code",
   "execution_count": 2,
   "metadata": {},
   "outputs": [],
   "source": [
    "Base = declarative_base()\n",
    "\n",
    "class Feature(Base):\n",
    "    __tablename__ = 'features'\n",
    "    featureid = Column(INTEGER, primary_key = True)\n",
    "    seqid = Column(TEXT)\n",
    "    source = Column(TEXT)\n",
    "    type = Column(TEXT)\n",
    "    start = Column(INTEGER)\n",
    "    end = Column(INTEGER)\n",
    "    score = Column(REAL)\n",
    "    strand = Column(TEXT)\n",
    "    phase = Column(TEXT)\n",
    "\n",
    "    def __repr__(self):\n",
    "        return f'''<Feature(featureid = {self.featureid}, seqid = {self.seqid}, source = {self.source}, type = {self.type},\n",
    "                start = {self.start}, end = {self.end}, score = {self.score}, strand = {self.strand}, phase = {self.phase})>'''\n",
    "\n",
    "class Attribute(Base):\n",
    "    __tablename__ = 'attributes'\n",
    "\n",
    "    id = Column(INTEGER, primary_key = True)\n",
    "    featureid = Column(TEXT, ForeignKey('features.featureid'))\n",
    "    tag = Column(TEXT)\n",
    "    value = Column(TEXT)\n",
    "\n",
    "    def __repr__(self):\n",
    "            return f'<Attribute(featureid = {self.featureid}, tag = {self.tag}, value = {self.value})>'"
   ]
  },
  {
   "cell_type": "code",
   "execution_count": 37,
   "metadata": {},
   "outputs": [],
   "source": [
    "def db_init(name):\n",
    "    global Base, engine, Feature, Attribute, session\n",
    "    db_name = name  \n",
    "    if os.path.isfile(db_name):\n",
    "        os.remove(db_name)\n",
    "    engine = create_engine(f'sqlite:///{db_name}', echo=True)\n",
    "    \n",
    "    Base.metadata.create_all(engine)\n",
    "    Session = sessionmaker(bind=engine)\n",
    "    session = Session()"
   ]
  },
  {
   "cell_type": "code",
   "execution_count": 143,
   "metadata": {},
   "outputs": [],
   "source": [
    "def attributes(index, attr_string):\n",
    "    for key_vals in attr_string.split(';'):\n",
    "        key, val = key_vals.split('=')\n",
    "        val = val.split(',')\n",
    "        for v in val:\n",
    "            att = Attribute(**{'featureid' :index, 'tag':key, 'value':unquote(v)})\n",
    "            session.add(att)"
   ]
  },
  {
   "cell_type": "code",
   "execution_count": 144,
   "metadata": {},
   "outputs": [],
   "source": [
    "def features(index, gff_entry):\n",
    "    entry = gff_entry[:]\n",
    "    entry.insert(0, index)\n",
    "    for i, e in enumerate(entry):\n",
    "        try:\n",
    "            if e == '.':\n",
    "                entry[i] = None\n",
    "                continue\n",
    "            entry[i] = int(e)\n",
    "        except ValueError:\n",
    "            pass\n",
    "    kwargs = dict(zip(['featureid', 'seqid', 'source', 'type', 'start', \n",
    "                       'end','score', 'strand', 'phase'], entry))\n",
    "    return Feature(**kwargs)"
   ]
  },
  {
   "cell_type": "code",
   "execution_count": null,
   "metadata": {},
   "outputs": [],
   "source": [
    "def main():\n",
    "    try:\n",
    "        path, db = sys.argv[1:3]\n",
    "    except Exception:\n",
    "        path = 'Caenorhabditis_elegans.WBcel235.91.gff3'\n",
    "        db = os.path.join('.', 'c_elegans.sqlite')\n",
    "    with open(path) as gff:\n",
    "        db_init(db)\n",
    "        i = 0\n",
    "        for entry in gff:\n",
    "            if entry.startswith('#'):\n",
    "                continue\n",
    "            else:\n",
    "                i += 1\n",
    "                entry = entry.split('\\t')\n",
    "                features(i, entry[:-1])\n",
    "                attributes(i, entry[-1])\n",
    "\n",
    "if __name__ == '__main__':\n",
    "    main()"
   ]
  },
  {
   "cell_type": "code",
   "execution_count": 145,
   "metadata": {},
   "outputs": [
    {
     "name": "stdout",
     "output_type": "stream",
     "text": [
      "2018-03-21 13:32:22,018 INFO sqlalchemy.engine.base.Engine SELECT CAST('test plain returns' AS VARCHAR(60)) AS anon_1\n",
      "2018-03-21 13:32:22,019 INFO sqlalchemy.engine.base.Engine ()\n",
      "2018-03-21 13:32:22,020 INFO sqlalchemy.engine.base.Engine SELECT CAST('test unicode returns' AS VARCHAR(60)) AS anon_1\n",
      "2018-03-21 13:32:22,021 INFO sqlalchemy.engine.base.Engine ()\n",
      "2018-03-21 13:32:22,022 INFO sqlalchemy.engine.base.Engine PRAGMA table_info(\"features\")\n",
      "2018-03-21 13:32:22,022 INFO sqlalchemy.engine.base.Engine ()\n",
      "2018-03-21 13:32:22,023 INFO sqlalchemy.engine.base.Engine PRAGMA table_info(\"attributes\")\n",
      "2018-03-21 13:32:22,024 INFO sqlalchemy.engine.base.Engine ()\n",
      "2018-03-21 13:32:22,025 INFO sqlalchemy.engine.base.Engine \n",
      "CREATE TABLE features (\n",
      "\tfeatureid INTEGER NOT NULL, \n",
      "\tseqid TEXT, \n",
      "\tsource TEXT, \n",
      "\ttype TEXT, \n",
      "\tstart INTEGER, \n",
      "\t\"end\" INTEGER, \n",
      "\tscore REAL, \n",
      "\tstrand TEXT, \n",
      "\tphase TEXT, \n",
      "\tPRIMARY KEY (featureid)\n",
      ")\n",
      "\n",
      "\n",
      "2018-03-21 13:32:22,026 INFO sqlalchemy.engine.base.Engine ()\n",
      "2018-03-21 13:32:22,049 INFO sqlalchemy.engine.base.Engine COMMIT\n",
      "2018-03-21 13:32:22,050 INFO sqlalchemy.engine.base.Engine \n",
      "CREATE TABLE attributes (\n",
      "\tid INTEGER NOT NULL, \n",
      "\tfeatureid TEXT, \n",
      "\ttag TEXT, \n",
      "\tvalue TEXT, \n",
      "\tPRIMARY KEY (id), \n",
      "\tFOREIGN KEY(featureid) REFERENCES features (featureid)\n",
      ")\n",
      "\n",
      "\n",
      "2018-03-21 13:32:22,051 INFO sqlalchemy.engine.base.Engine ()\n",
      "2018-03-21 13:32:22,090 INFO sqlalchemy.engine.base.Engine COMMIT\n"
     ]
    }
   ],
   "source": [
    "db_init(os.path.join('.', 'c_elegans.sqlite'))"
   ]
  },
  {
   "cell_type": "code",
   "execution_count": 146,
   "metadata": {},
   "outputs": [],
   "source": [
    "feat = features(i, entry[:-1])\n",
    "session.add(feat)"
   ]
  },
  {
   "cell_type": "code",
   "execution_count": 147,
   "metadata": {},
   "outputs": [
    {
     "name": "stdout",
     "output_type": "stream",
     "text": [
      "2018-03-21 13:32:32,027 INFO sqlalchemy.engine.base.Engine BEGIN (implicit)\n",
      "2018-03-21 13:32:32,029 INFO sqlalchemy.engine.base.Engine INSERT INTO features (featureid, seqid, source, type, start, \"end\", score, strand, phase) VALUES (?, ?, ?, ?, ?, ?, ?, ?, ?)\n",
      "2018-03-21 13:32:32,030 INFO sqlalchemy.engine.base.Engine (11, 'I', 'WormBase', 'CDS', 5195, 5296, None, '-', 0)\n",
      "2018-03-21 13:32:32,032 INFO sqlalchemy.engine.base.Engine COMMIT\n"
     ]
    }
   ],
   "source": [
    "session.commit()"
   ]
  },
  {
   "cell_type": "code",
   "execution_count": 21,
   "metadata": {},
   "outputs": [],
   "source": [
    "from sqlalchemy import create_engine\n",
    "from sqlalchemy.orm import sessionmaker\n",
    "\n",
    "engine = create_engine('sqlite:///c_elegans.sqlite', echo = True)\n",
    "Session = sessionmaker(bind=engine)\n",
    "session = Session()"
   ]
  },
  {
   "cell_type": "code",
   "execution_count": 38,
   "metadata": {},
   "outputs": [
    {
     "name": "stdout",
     "output_type": "stream",
     "text": [
      "2018-03-21 14:37:45,238 INFO sqlalchemy.engine.base.Engine SELECT count(*) AS count_1 \n",
      "FROM (SELECT features.featureid AS features_featureid, features.seqid AS features_seqid, features.source AS features_source, features.type AS features_type, features.start AS features_start, features.\"end\" AS features_end, features.score AS features_score, features.strand AS features_strand, features.phase AS features_phase \n",
      "FROM features) AS anon_1\n",
      "2018-03-21 14:37:45,239 INFO sqlalchemy.engine.base.Engine ()\n",
      "659621\n"
     ]
    }
   ],
   "source": [
    "print(session.query(Feature).count())"
   ]
  },
  {
   "cell_type": "code",
   "execution_count": 42,
   "metadata": {},
   "outputs": [],
   "source": [
    "q = session.query(Attribute)"
   ]
  },
  {
   "cell_type": "code",
   "execution_count": 43,
   "metadata": {},
   "outputs": [
    {
     "ename": "TypeError",
     "evalue": "select_entity_from() missing 1 required positional argument: 'from_obj'",
     "output_type": "error",
     "traceback": [
      "\u001b[0;31m---------------------------------------------------------------------------\u001b[0m",
      "\u001b[0;31mTypeError\u001b[0m                                 Traceback (most recent call last)",
      "\u001b[0;32m<ipython-input-43-2b4bf7b1991d>\u001b[0m in \u001b[0;36m<module>\u001b[0;34m()\u001b[0m\n\u001b[0;32m----> 1\u001b[0;31m \u001b[0mq\u001b[0m\u001b[0;34m.\u001b[0m\u001b[0mselect_entity_from\u001b[0m\u001b[0;34m(\u001b[0m\u001b[0;34m)\u001b[0m\u001b[0;34m\u001b[0m\u001b[0m\n\u001b[0m",
      "\u001b[0;31mTypeError\u001b[0m: select_entity_from() missing 1 required positional argument: 'from_obj'"
     ]
    }
   ],
   "source": [
    "q.select_entity_from()"
   ]
  },
  {
   "cell_type": "code",
   "execution_count": 44,
   "metadata": {},
   "outputs": [
    {
     "name": "stdout",
     "output_type": "stream",
     "text": [
      "2018-03-21 16:27:35,172 INFO sqlalchemy.engine.base.Engine SELECT name FROM sqlite_master WHERE type='table' ORDER BY name\n",
      "2018-03-21 16:27:35,173 INFO sqlalchemy.engine.base.Engine ()\n"
     ]
    },
    {
     "data": {
      "text/plain": [
       "['attributes', 'features']"
      ]
     },
     "execution_count": 44,
     "metadata": {},
     "output_type": "execute_result"
    }
   ],
   "source": [
    "engine.table_names()"
   ]
  },
  {
   "cell_type": "code",
   "execution_count": 1,
   "metadata": {},
   "outputs": [],
   "source": [
    "from sqlite3 import connect\n",
    "from urllib.parse import unquote"
   ]
  },
  {
   "cell_type": "code",
   "execution_count": 47,
   "metadata": {},
   "outputs": [],
   "source": [
    "conn = connect('c_elegans.sqlite')\n",
    "curs = conn.cursor()"
   ]
  },
  {
   "cell_type": "code",
   "execution_count": 48,
   "metadata": {},
   "outputs": [],
   "source": [
    "def make_table(cursor):\n",
    "    features = r'''CREATE TABLE features (\n",
    "        featureid INTEGER PRIMARY KEY,\n",
    "        seqid TEXT,\n",
    "        source TEXT,\n",
    "        type TEXT,\n",
    "        \"start\" INTEGER NOT NULL,\n",
    "        \"end\" INTEGER NOT NULL,\n",
    "        score REAL,\n",
    "        strand TEXT,\n",
    "        phase TEXT \n",
    "    );'''\n",
    "    \n",
    "    attributes = r'''CREATE TABLE attributes (\n",
    "        featureid INTEGER NOT NULL,\n",
    "        tag TEXT,\n",
    "        \"value\" TEXT,\n",
    "        FOREIGN KEY (featureid) REFERENCES features(featureid)\n",
    "    );'''\n",
    "    \n",
    "    cursor.execute('DROP TABLE IF EXISTS features')\n",
    "    cursor.execute('DROP TABLE IF EXISTS attributes')\n",
    "    \n",
    "    cursor.execute(features)\n",
    "    cursor.execute(attributes)"
   ]
  },
  {
   "cell_type": "code",
   "execution_count": 49,
   "metadata": {},
   "outputs": [],
   "source": [
    "make_table(curs)"
   ]
  },
  {
   "cell_type": "code",
   "execution_count": 50,
   "metadata": {},
   "outputs": [],
   "source": [
    "def insert_features(cursor, featureid, features):\n",
    "    statement = 'INSERT INTO features VALUES (?, ?, ?, ?, ?, ?, ?, ?, ?)'\n",
    "    cursor.execute(statement, [featureid] + features)"
   ]
  },
  {
   "cell_type": "code",
   "execution_count": 51,
   "metadata": {},
   "outputs": [],
   "source": [
    "def insert_attributes(cursor, featureid, attributes):\n",
    "    statement = 'INSERT INTO attributes VALUES(?,?,?)'\n",
    "    for tv in attributes.split(';'):\n",
    "        tag, value = tv.split('=')\n",
    "        value = value.split(',')\n",
    "        for v in value:\n",
    "            cursor.execute(statement, [featureid, tag, unquote(v)])"
   ]
  },
  {
   "cell_type": "code",
   "execution_count": 52,
   "metadata": {},
   "outputs": [],
   "source": [
    "with open('Caenorhabditis_elegans.WBcel235.91.gff3') as gff:\n",
    "    i = 0\n",
    "    for line in gff:\n",
    "        if line.startswith('#'): continue\n",
    "        i += 1\n",
    "        line = line.strip().split('\\t')\n",
    "        insert_features(curs, i, line[:-1])\n",
    "        insert_attributes(curs, i, line[-1])\n",
    "conn.commit()"
   ]
  },
  {
   "cell_type": "code",
   "execution_count": 46,
   "metadata": {},
   "outputs": [],
   "source": [
    "curs.close()\n",
    "conn.close()"
   ]
  },
  {
   "cell_type": "code",
   "execution_count": 53,
   "metadata": {},
   "outputs": [
    {
     "data": {
      "text/plain": [
       "<sqlite3.Cursor at 0x7f4848c250a0>"
      ]
     },
     "execution_count": 53,
     "metadata": {},
     "output_type": "execute_result"
    }
   ],
   "source": [
    "curs.execute('CREATE INDEX features_seqid_idx ON features (seqid);')"
   ]
  },
  {
   "cell_type": "code",
   "execution_count": 2,
   "metadata": {},
   "outputs": [],
   "source": [
    "from sqlalchemy import create_engine\n",
    "from sqlalchemy.orm import sessionmaker\n",
    "from sqlalchemy import func\n",
    "from gffmappers import *"
   ]
  },
  {
   "cell_type": "code",
   "execution_count": 19,
   "metadata": {},
   "outputs": [],
   "source": [
    "engine = create_engine('sqlite:///c_elegans_core.sqlite', echo=False)\n",
    "Session = sessionmaker(bind=engine)\n",
    "session = Session()"
   ]
  },
  {
   "cell_type": "code",
   "execution_count": 21,
   "metadata": {},
   "outputs": [
    {
     "data": {
      "text/plain": [
       "[<Attribute(featureid = 1, tag = ID, value = chromosome:I)>,\n",
       " <Attribute(featureid = 1, tag = Alias, value = BX284601.5)>,\n",
       " <Attribute(featureid = 1, tag = Alias, value = NC_003279.8)>,\n",
       " <Attribute(featureid = 2, tag = ID, value = gene:WBGene00023193)>,\n",
       " <Attribute(featureid = 2, tag = Name, value = Y74C9A.6)>,\n",
       " <Attribute(featureid = 2, tag = biotype, value = snoRNA)>,\n",
       " <Attribute(featureid = 2, tag = gene_id, value = WBGene00023193)>,\n",
       " <Attribute(featureid = 2, tag = logic_name, value = wormbase_non_coding)>,\n",
       " <Attribute(featureid = 3, tag = ID, value = transcript:Y74C9A.6)>,\n",
       " <Attribute(featureid = 3, tag = Parent, value = gene:WBGene00023193)>,\n",
       " <Attribute(featureid = 3, tag = Name, value = Y74C9A.6)>]"
      ]
     },
     "execution_count": 21,
     "metadata": {},
     "output_type": "execute_result"
    }
   ],
   "source": [
    "session.query(Attribute).limit(11).all()"
   ]
  },
  {
   "cell_type": "code",
   "execution_count": 16,
   "metadata": {},
   "outputs": [
    {
     "data": {
      "text/plain": [
       "659621"
      ]
     },
     "execution_count": 16,
     "metadata": {},
     "output_type": "execute_result"
    }
   ],
   "source": [
    "session.query(Feature).count()"
   ]
  },
  {
   "cell_type": "code",
   "execution_count": 17,
   "metadata": {},
   "outputs": [
    {
     "data": {
      "text/plain": [
       "3436229"
      ]
     },
     "execution_count": 17,
     "metadata": {},
     "output_type": "execute_result"
    }
   ],
   "source": [
    "session.query(Attribute).count()"
   ]
  },
  {
   "cell_type": "code",
   "execution_count": 18,
   "metadata": {},
   "outputs": [],
   "source": [
    "session.close()"
   ]
  },
  {
   "cell_type": "code",
   "execution_count": null,
   "metadata": {},
   "outputs": [],
   "source": []
  }
 ],
 "metadata": {
  "kernelspec": {
   "display_name": "Python 3",
   "language": "python",
   "name": "python3"
  },
  "language_info": {
   "codemirror_mode": {
    "name": "ipython",
    "version": 3
   },
   "file_extension": ".py",
   "mimetype": "text/x-python",
   "name": "python",
   "nbconvert_exporter": "python",
   "pygments_lexer": "ipython3",
   "version": "3.6.4"
  }
 },
 "nbformat": 4,
 "nbformat_minor": 2
}
