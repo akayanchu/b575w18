{
 "cells": [
  {
   "cell_type": "markdown",
   "metadata": {},
   "source": [
    "# Cell below creates objects used to map to tables of c_elegans database."
   ]
  },
  {
   "cell_type": "code",
   "execution_count": 1,
   "metadata": {},
   "outputs": [],
   "source": [
    "from sqlalchemy import Column, INTEGER, TEXT, NUMERIC, REAL, ForeignKey\n",
    "from sqlalchemy.ext.declarative import declarative_base\n",
    "from sqlalchemy.orm import relationship\n",
    "\n",
    "Base = declarative_base()\n",
    "\n",
    "class Feature(Base):\n",
    "    __tablename__ = 'features'\n",
    "    featureid = Column(INTEGER, primary_key = True)\n",
    "    seqid = Column(TEXT)\n",
    "    source = Column(TEXT)\n",
    "    type = Column(TEXT, index = True)\n",
    "    start = Column(INTEGER, index = True)\n",
    "    end = Column(INTEGER, index = True)\n",
    "    score = Column(REAL, index = True)\n",
    "    strand = Column(TEXT)\n",
    "    phase = Column(TEXT)\n",
    "    child = relationship('Attribute', back_populates = 'parent')\n",
    "\n",
    "    def __repr__(self):\n",
    "        return f'''<Feature(featureid = {self.featureid}, seqid = {self.seqid}, source = {self.source}, type = {self.type},\n",
    "                start = {self.start}, end = {self.end}, score = {self.score}, strand = {self.strand}, phase = {self.phase})>'''\n",
    "\n",
    "class Attribute(Base):\n",
    "    __tablename__ = 'attributes'\n",
    "\n",
    "    id = Column(INTEGER, primary_key = True)\n",
    "    featureid = Column(TEXT, ForeignKey('features.featureid'), index = True)\n",
    "    tag = Column(TEXT, index=True)\n",
    "    value = Column(TEXT)\n",
    "    parent = relationship('Feature', back_populates = 'child')\n",
    "\n",
    "    def __repr__(self):\n",
    "        return f'<Attribute(featureid = {self.featureid}, tag = {self.tag}, value = {self.value})>'"
   ]
  },
  {
   "cell_type": "code",
   "execution_count": 2,
   "metadata": {},
   "outputs": [],
   "source": [
    "from sqlalchemy import create_engine\n",
    "from sqlalchemy.orm import sessionmaker\n",
    "from sqlalchemy import func"
   ]
  },
  {
   "cell_type": "code",
   "execution_count": 3,
   "metadata": {},
   "outputs": [],
   "source": [
    "engine = create_engine('sqlite:///c_elegans_core.sqlite', echo=True)\n",
    "Session = sessionmaker(bind=engine)\n",
    "db = Session()"
   ]
  },
  {
   "cell_type": "markdown",
   "metadata": {},
   "source": [
    "### The classes created above are used to describe the data within their associated `__tablename__` tables. These are used as mapper entities for interacting with the database, and therefore queried against."
   ]
  },
  {
   "cell_type": "code",
   "execution_count": 4,
   "metadata": {},
   "outputs": [
    {
     "name": "stdout",
     "output_type": "stream",
     "text": [
      "2018-03-22 15:20:45,786 INFO sqlalchemy.engine.base.Engine SELECT CAST('test plain returns' AS VARCHAR(60)) AS anon_1\n",
      "2018-03-22 15:20:45,787 INFO sqlalchemy.engine.base.Engine ()\n",
      "2018-03-22 15:20:45,789 INFO sqlalchemy.engine.base.Engine SELECT CAST('test unicode returns' AS VARCHAR(60)) AS anon_1\n",
      "2018-03-22 15:20:45,789 INFO sqlalchemy.engine.base.Engine ()\n",
      "2018-03-22 15:20:45,791 INFO sqlalchemy.engine.base.Engine BEGIN (implicit)\n",
      "2018-03-22 15:20:45,792 INFO sqlalchemy.engine.base.Engine SELECT count(*) AS count_1 \n",
      "FROM (SELECT features.featureid AS features_featureid, features.seqid AS features_seqid, features.source AS features_source, features.type AS features_type, features.start AS features_start, features.\"end\" AS features_end, features.score AS features_score, features.strand AS features_strand, features.phase AS features_phase \n",
      "FROM features) AS anon_1\n",
      "2018-03-22 15:20:45,793 INFO sqlalchemy.engine.base.Engine ()\n"
     ]
    },
    {
     "data": {
      "text/plain": [
       "659621"
      ]
     },
     "execution_count": 4,
     "metadata": {},
     "output_type": "execute_result"
    }
   ],
   "source": [
    "db.query(Feature).count()"
   ]
  },
  {
   "cell_type": "code",
   "execution_count": 26,
   "metadata": {},
   "outputs": [
    {
     "name": "stdout",
     "output_type": "stream",
     "text": [
      "2018-03-22 15:29:20,836 INFO sqlalchemy.engine.base.Engine SELECT features.type AS features_type, count(features.type) AS count_1 \n",
      "FROM features GROUP BY features.type\n",
      "2018-03-22 15:29:20,837 INFO sqlalchemy.engine.base.Engine ()\n"
     ]
    },
    {
     "data": {
      "text/plain": [
       "[('CDS', 222859),\n",
       " ('chromosome', 7),\n",
       " ('exon', 269904),\n",
       " ('five_prime_UTR', 30960),\n",
       " ('gene', 20222),\n",
       " ('lnc_RNA', 283),\n",
       " ('mRNA', 33391),\n",
       " ('miRNA', 454),\n",
       " ('ncRNA', 8402),\n",
       " ('ncRNA_gene', 24765),\n",
       " ('piRNA', 15364),\n",
       " ('pre_miRNA', 257),\n",
       " ('pseudogene', 1791),\n",
       " ('pseudogenic_transcript', 1827),\n",
       " ('rRNA', 22),\n",
       " ('snRNA', 130),\n",
       " ('snoRNA', 345),\n",
       " ('tRNA', 634),\n",
       " ('three_prime_UTR', 28004)]"
      ]
     },
     "execution_count": 26,
     "metadata": {},
     "output_type": "execute_result"
    }
   ],
   "source": [
    "db.query(Feature.type, func.count(Feature.type)).group_by(Feature.type).all()"
   ]
  },
  {
   "cell_type": "code",
   "execution_count": 27,
   "metadata": {},
   "outputs": [
    {
     "name": "stdout",
     "output_type": "stream",
     "text": [
      "2018-03-22 15:29:45,833 INFO sqlalchemy.engine.base.Engine SELECT count(*) AS count_1 \n",
      "FROM (SELECT DISTINCT attributes.tag AS attributes_tag \n",
      "FROM attributes) AS anon_1\n",
      "2018-03-22 15:29:45,834 INFO sqlalchemy.engine.base.Engine ()\n"
     ]
    },
    {
     "data": {
      "text/plain": [
       "16"
      ]
     },
     "execution_count": 27,
     "metadata": {},
     "output_type": "execute_result"
    }
   ],
   "source": [
    "db.query(Attribute.tag).distinct().count()"
   ]
  },
  {
   "cell_type": "code",
   "execution_count": null,
   "metadata": {},
   "outputs": [],
   "source": []
  }
 ],
 "metadata": {
  "kernelspec": {
   "display_name": "Python 3",
   "language": "python",
   "name": "python3"
  },
  "language_info": {
   "codemirror_mode": {
    "name": "ipython",
    "version": 3
   },
   "file_extension": ".py",
   "mimetype": "text/x-python",
   "name": "python",
   "nbconvert_exporter": "python",
   "pygments_lexer": "ipython3",
   "version": "3.6.4"
  }
 },
 "nbformat": 4,
 "nbformat_minor": 2
}
