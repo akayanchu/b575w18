{
 "cells": [
  {
   "cell_type": "markdown",
   "metadata": {},
   "source": [
    "# Overview"
   ]
  },
  {
   "cell_type": "markdown",
   "metadata": {},
   "source": [
    "1. Getting started\n",
    "2. `matplotlib`\n",
    "3. `seaborn`\n",
    "4. `plotly`\n",
    "5. Conclusion"
   ]
  },
  {
   "cell_type": "markdown",
   "metadata": {},
   "source": [
    "# Getting started"
   ]
  },
  {
   "cell_type": "markdown",
   "metadata": {},
   "source": [
    "## Imports for today"
   ]
  },
  {
   "cell_type": "code",
   "execution_count": null,
   "metadata": {},
   "outputs": [],
   "source": [
    "%matplotlib inline\n",
    "import numpy as np\n",
    "import pandas as pd\n",
    "import numpy.random as nr\n",
    "import matplotlib.pyplot as plt\n",
    "from sklearn.datasets import make_classification"
   ]
  },
  {
   "cell_type": "markdown",
   "metadata": {},
   "source": [
    "## Helper function for making column names"
   ]
  },
  {
   "cell_type": "code",
   "execution_count": null,
   "metadata": {},
   "outputs": [],
   "source": [
    "import string\n",
    "\n",
    "def gen_lab(n, m=1):\n",
    "    nr.seed(0)\n",
    "    '''generate a m number of n-length random labels from string.ascii_lowercase'''\n",
    "    labels = []\n",
    "    nr.seed(0)\n",
    "    for i in range(m):\n",
    "        out = nr.choice(list(string.ascii_lowercase), 2)\n",
    "        labels.append(''.join(out))\n",
    "    return labels"
   ]
  },
  {
   "cell_type": "markdown",
   "metadata": {},
   "source": [
    "## Simulating data"
   ]
  },
  {
   "cell_type": "code",
   "execution_count": null,
   "metadata": {},
   "outputs": [],
   "source": [
    "random_data = make_classification(n_samples=1000, n_features=10, n_informative=4, random_state=0)[0]\n",
    "df = pd.DataFrame(random_data, columns=gen_lab(3, 10))\n",
    "df.head()"
   ]
  },
  {
   "cell_type": "markdown",
   "metadata": {},
   "source": [
    "## Add a categorical value column"
   ]
  },
  {
   "cell_type": "code",
   "execution_count": null,
   "metadata": {},
   "outputs": [],
   "source": [
    "feature_types = ['gene', 'CDS', 'mRNA', 'exon', 'five_prime_UTR',\n",
    "                'three_prime_UTR', 'rRNA', 'tRNA', 'ncRNA', 'tmRNA',\n",
    "                'transcript', 'mobile_genetic_element', 'origin_of_replication',\n",
    "                'promoter', 'repeat_region']\n",
    "feature_column = pd.Series(nr.choice(feature_types, 1000), name='feature_type')\n",
    "df = df.join(feature_column)"
   ]
  },
  {
   "cell_type": "code",
   "execution_count": null,
   "metadata": {},
   "outputs": [],
   "source": [
    "df.head()"
   ]
  },
  {
   "cell_type": "markdown",
   "metadata": {},
   "source": [
    "# More simulated data"
   ]
  },
  {
   "cell_type": "code",
   "execution_count": null,
   "metadata": {},
   "outputs": [],
   "source": [
    "nr.seed(0)\n",
    "chromosome = pd.Series(nr.choice(range(1,23), 1000), name='chr')\n",
    "alt_facts = pd.DataFrame(chromosome)\n",
    "chr_len = pd.Series({1:248956422,2:242193529,3:198295559,4:190214555,5:181538259,\n",
    "           6:170805979,7:159345973,8:145138636,9:138394717,10:133797422,\n",
    "           11:135086622,12:133275309,13:114364328,14:107043718,15:101991189,\n",
    "           16:90338345,17:83257441,18:80373285,19:58617616,20:64444167,21:46709983,22:50818468}, name='chr_len')\n",
    "feature_types = ['gene', 'CDS', 'mRNA', 'exon', 'five_prime_UTR', 'three_prime_UTR', 'rRNA',\n",
    "                 'tRNA', 'ncRNA', 'tmRNA', 'transcript', 'mobile_genetic_element', \n",
    "                 'origin_of_replication', 'promoter', 'repeat_region']\n",
    "strand = ['.', '+', '-']\n",
    "alt_facts = alt_facts.join(chr_len, on=alt_facts.chr)\n",
    "alt_facts['start'] = alt_facts.apply(lambda row: nr.randint(0, row.chr_len), axis=1)\n",
    "alt_facts['stop'] = alt_facts.apply(lambda row: nr.randint(row.start, row.chr_len), axis=1)\n",
    "alt_facts['type'] = pd.Series(nr.choice(feature_types, len(alt_facts)), name='feat_type')\n",
    "alt_facts['strand'] = pd.Series(nr.choice(strand, len(alt_facts)), name='strand')\n",
    "alt_facts['score'] = pd.Series(nr.randint(10, 60, len(alt_facts)), name='score')\n",
    "alt_facts['expression'] = pd.Series(np.log2(np.abs(nr.randint(0, 100) * nr.randn(len(alt_facts)) + nr.randint(0,100))), name='expression')"
   ]
  },
  {
   "cell_type": "markdown",
   "metadata": {},
   "source": [
    "# Seaborn"
   ]
  },
  {
   "cell_type": "code",
   "execution_count": null,
   "metadata": {},
   "outputs": [],
   "source": [
    "import seaborn as sns"
   ]
  },
  {
   "cell_type": "markdown",
   "metadata": {},
   "source": [
    "# Plotly"
   ]
  },
  {
   "cell_type": "markdown",
   "metadata": {},
   "source": [
    "Plotly is project that is meant to bring ***interactive*** graphing to all common programming languages. Currently they support the following languages in one way or another:\n",
    "1. JavaScript\n",
    "2. Python (matplotlib, notebooks, pandas)\n",
    "3. R\n",
    "4. Excel\n",
    "5. Node.js\n",
    "6. Go\n",
    "7. Ruby\n",
    "8. MATLAB\n",
    "9. Julia\n",
    "10. Scala</br>\n",
    "..."
   ]
  },
  {
   "cell_type": "markdown",
   "metadata": {},
   "source": [
    "## Getting started"
   ]
  },
  {
   "cell_type": "markdown",
   "metadata": {},
   "source": [
    "Many believe that because [plot.ly](https://plot.ly/) has subscription-based plans and accounts that you need to have an account and/or pay for it to use it. This isn't true. Everybody can get a **free** account that allows you save data/dashboards/plots on the cloud where they can be shared. However, a great majority of what most users need is actually free, as in you don't even need an account in the first place."
   ]
  },
  {
   "cell_type": "markdown",
   "metadata": {},
   "source": [
    "Let's install plotly (without the need for an account)"
   ]
  },
  {
   "cell_type": "markdown",
   "metadata": {},
   "source": [
    "**Note:** Below is a command that should occur at the shell level when you run it. The purpose of this is to install a renderer for JupyterLab to visualize with plotly"
   ]
  },
  {
   "cell_type": "code",
   "execution_count": null,
   "metadata": {},
   "outputs": [],
   "source": [
    "!jupyter labextension install @jupyterlab/plotly-extension"
   ]
  },
  {
   "cell_type": "code",
   "execution_count": null,
   "metadata": {},
   "outputs": [],
   "source": [
    "import pip\n",
    "pip.main(['install', 'plotly'])"
   ]
  },
  {
   "cell_type": "markdown",
   "metadata": {},
   "source": [
    "We can leverage a majority of the plotly library by using `plotly.offline`"
   ]
  },
  {
   "cell_type": "code",
   "execution_count": null,
   "metadata": {},
   "outputs": [],
   "source": [
    "import plotly.graph_objs as go\n",
    "from plotly.offline import iplot\n",
    "import plotly.figure_factory as ff"
   ]
  },
  {
   "cell_type": "markdown",
   "metadata": {},
   "source": [
    "We will get into `figure_factory` in a second, but it is of note that `figure_factory` are special high-level plots that are generated by plotly that can *only* be found in **Python**."
   ]
  }
 ],
 "metadata": {
  "kernelspec": {
   "display_name": "Python 3",
   "language": "python",
   "name": "python3"
  },
  "language_info": {
   "codemirror_mode": {
    "name": "ipython",
    "version": 3
   },
   "file_extension": ".py",
   "mimetype": "text/x-python",
   "name": "python",
   "nbconvert_exporter": "python",
   "pygments_lexer": "ipython3",
   "version": "3.6.3"
  }
 },
 "nbformat": 4,
 "nbformat_minor": 2
}
