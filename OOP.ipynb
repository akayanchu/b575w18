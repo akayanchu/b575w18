{
 "cells": [
  {
   "cell_type": "markdown",
   "metadata": {
    "slideshow": {
     "slide_type": "slide"
    }
   },
   "source": [
    "# Object-Oriented Programming (OOP)"
   ]
  },
  {
   "cell_type": "markdown",
   "metadata": {
    "slideshow": {
     "slide_type": "fragment"
    }
   },
   "source": [
    "Whenever you code in Python, you should always have a similar questsion that you as yourself during your workflow: \"What do I have?\" and \"What do I need?\". While working on subcomponents of a function, you should always ask yourself \"What ***kind*** of object am I working with, and what does it do?\""
   ]
  },
  {
   "cell_type": "markdown",
   "metadata": {
    "slideshow": {
     "slide_type": "slide"
    }
   },
   "source": [
    "In Python, ***EVERYTHING*** is an object!"
   ]
  },
  {
   "cell_type": "code",
   "execution_count": null,
   "metadata": {
    "hidePrompt": true,
    "slideshow": {
     "slide_type": "fragment"
    }
   },
   "outputs": [],
   "source": [
    "print(type('asdf'), type(str), type(True), type(bool), type(42), type(int))"
   ]
  },
  {
   "cell_type": "markdown",
   "metadata": {
    "slideshow": {
     "slide_type": "slide"
    }
   },
   "source": [
    "## So what are objects?\n",
    "They are a data abstraction that has 2 main jobs:\n",
    "1. Captures internal *representation* of the data it is abstracting\n",
    "2. Creates an *interface* for the abstracted data"
   ]
  },
  {
   "cell_type": "code",
   "execution_count": null,
   "metadata": {
    "hidePrompt": true,
    "slideshow": {
     "slide_type": "subslide"
    }
   },
   "outputs": [],
   "source": [
    "def no_underscore(obj: object) -> list[str]:\n",
    "    \"\"\"Utility function to print out directory contents\n",
    "    while ignoring private (_) and special (__) methods\n",
    "    \n",
    "    Args:\n",
    "        obj (object): any object\n",
    "    \n",
    "    Returns:\n",
    "        out (list): list of directory entries without private\n",
    "                    or special methods listed.\n",
    "    \"\"\"\n",
    "    out = [i for i in dir(obj) if not i.startswith('_')]\n",
    "    return out"
   ]
  },
  {
   "cell_type": "markdown",
   "metadata": {
    "slideshow": {
     "slide_type": "subslide"
    }
   },
   "source": [
    "The purpose of objects is to *bundle* coherent data and operations, and make them accessible through a well-defined *interface*. "
   ]
  },
  {
   "cell_type": "code",
   "execution_count": null,
   "metadata": {
    "hidePrompt": true
   },
   "outputs": [],
   "source": [
    "no_underscore(int)"
   ]
  },
  {
   "cell_type": "markdown",
   "metadata": {
    "slideshow": {
     "slide_type": "slide"
    }
   },
   "source": [
    "Up to this point, we have used objects already defined for us. However, we are not limited by those boundaries, we can *make* our own objects. This is done through the `class` keyword."
   ]
  },
  {
   "cell_type": "markdown",
   "metadata": {
    "slideshow": {
     "slide_type": "subslide"
    }
   },
   "source": [
    "<center>![](https://ds055uzetaobb.cloudfront.net/image_optimizer/9996aa83f77a2837f41a4de7f2ab517168716532.png)"
   ]
  },
  {
   "cell_type": "markdown",
   "metadata": {
    "slideshow": {
     "slide_type": "subslide"
    }
   },
   "source": [
    "Using `class` is much like `def` functions. However, now we get to play around with some of those 'dunder' (\\_\\_) methods we have been steering you away from."
   ]
  },
  {
   "cell_type": "markdown",
   "metadata": {
    "slideshow": {
     "slide_type": "fragment"
    }
   },
   "source": [
    "![](https://github.com/betteridiot/b575w18/blob/master/syntax.png?raw=true)"
   ]
  },
  {
   "cell_type": "markdown",
   "metadata": {},
   "source": [
    "NOTE: As of right now, we won't be dealing with `(object)` quite yet."
   ]
  },
  {
   "cell_type": "markdown",
   "metadata": {
    "slideshow": {
     "slide_type": "subslide"
    }
   },
   "source": [
    "Let's start somewhere familiar: Jeff's `st` module. To do this, two things need to happen:\n",
    "1. Put the `st` module script in the same folder that this notebook is in\n",
    "2. Copy the `Hs_receptors.fa` script into the same folder as the notebook"
   ]
  },
  {
   "cell_type": "code",
   "execution_count": null,
   "metadata": {
    "hidePrompt": true
   },
   "outputs": [],
   "source": [
    "import st"
   ]
  },
  {
   "cell_type": "code",
   "execution_count": null,
   "metadata": {
    "hidePrompt": true
   },
   "outputs": [],
   "source": [
    "help(st.get_next_fasta)"
   ]
  },
  {
   "cell_type": "code",
   "execution_count": null,
   "metadata": {
    "hidePrompt": true
   },
   "outputs": [],
   "source": [
    "# Help me write the code\n",
    "\n",
    "# Open a file\n",
    "\n",
    "    # Instantiate the generator\n",
    "    \n",
    "    # Get the First sequence for the demonstration\n",
    "    fasta_entry = "
   ]
  },
  {
   "cell_type": "markdown",
   "metadata": {
    "slideshow": {
     "slide_type": "subslide"
    }
   },
   "source": [
    "## Let's make a `Fasta` object "
   ]
  },
  {
   "cell_type": "code",
   "execution_count": null,
   "metadata": {
    "hidePrompt": true
   },
   "outputs": [],
   "source": [
    "class Fasta:\n",
    "    # Making our first 'dunder' (special) method\n",
    "    def __init__(self, fasta_entry):\n",
    "        \"\"\" This is called the initialization method.\n",
    "        It controls what happens when the object is instantiated,\n",
    "        or created.\n",
    "        \n",
    "        Args:\n",
    "            fasta_entry (tup): fasta entry that contains the header and sequence\n",
    "        \"\"\"\n",
    "        self.header = fasta_entry[0]\n",
    "        self.seq = fasta_entry[1]"
   ]
  },
  {
   "cell_type": "markdown",
   "metadata": {
    "slideshow": {
     "slide_type": "subslide"
    }
   },
   "source": [
    "We need to take a second to talk about 3 things real quick:\n",
    "1. Functions within `class` are called ***methods*** or procedural attributes\n",
    "2. `self.header` and `self.seq` are called ***attributes*** since they only contain data\n",
    "3. What in the world is `self`?"
   ]
  },
  {
   "cell_type": "markdown",
   "metadata": {
    "slideshow": {
     "slide_type": "subslide"
    }
   },
   "source": [
    "`self` is a parameter that allows an object to look back at its self. Specifically the current *instance* of itself. However, outside of writing the class, you will never actually have to pass the word `self` into the methods. For example:"
   ]
  },
  {
   "cell_type": "code",
   "execution_count": null,
   "metadata": {
    "hidePrompt": true
   },
   "outputs": [],
   "source": [
    "fasta = Fasta(fasta_entry)"
   ]
  },
  {
   "cell_type": "markdown",
   "metadata": {
    "slideshow": {
     "slide_type": "fragment"
    }
   },
   "source": [
    "See, I didn't need to use `self` on the outside. Furthermore, I can do the following:"
   ]
  },
  {
   "cell_type": "code",
   "execution_count": null,
   "metadata": {
    "hidePrompt": true
   },
   "outputs": [],
   "source": [
    "print(f'Header: {bad_fasta.header}')"
   ]
  },
  {
   "cell_type": "markdown",
   "metadata": {
    "slideshow": {
     "slide_type": "subslide"
    }
   },
   "source": [
    "Wait, with just that, we made a new object? I don't believe you..."
   ]
  },
  {
   "cell_type": "code",
   "execution_count": null,
   "metadata": {
    "hidePrompt": true
   },
   "outputs": [],
   "source": [
    "type(fasta)"
   ]
  },
  {
   "cell_type": "markdown",
   "metadata": {
    "slideshow": {
     "slide_type": "slide"
    }
   },
   "source": [
    "## The `__str__` method"
   ]
  },
  {
   "cell_type": "markdown",
   "metadata": {
    "slideshow": {
     "slide_type": "fragment"
    }
   },
   "source": [
    "The `__str__` method is a dunder that controls how your object prints out when `print()` is used on it."
   ]
  },
  {
   "cell_type": "code",
   "execution_count": null,
   "metadata": {
    "hidePrompt": true,
    "slideshow": {
     "slide_type": "subslide"
    }
   },
   "outputs": [],
   "source": [
    "class Fasta:\n",
    "    # Making our first 'dunder' (special) method\n",
    "    def __init__(self, fasta_entry):\n",
    "        \"\"\" This is called the initialization method.\n",
    "        It controls what happens when the object is instantiated,\n",
    "        or created.\n",
    "        \n",
    "        Args:\n",
    "            fasta_entry (tup): fasta entry that contains the header and sequence\n",
    "        \"\"\"\n",
    "        self.header = fasta_entry[0]\n",
    "        self.seq = fasta_entry[1]\n",
    "    \n",
    "    def __str__(self):\n",
    "        return f'{self.header}\\n{self.seq}'"
   ]
  },
  {
   "cell_type": "code",
   "execution_count": null,
   "metadata": {
    "hidePrompt": true
   },
   "outputs": [],
   "source": [
    "fasta = Fasta(fasta_entry)\n",
    "print(fasta)"
   ]
  },
  {
   "cell_type": "markdown",
   "metadata": {
    "slideshow": {
     "slide_type": "slide"
    }
   },
   "source": [
    "## The `__repr__` method"
   ]
  },
  {
   "cell_type": "markdown",
   "metadata": {
    "slideshow": {
     "slide_type": "fragment"
    }
   },
   "source": [
    "The `__repr__` method is similar to `__str__`, but is called when the `repr()` function is used on it. A `repr()` should represent the complete data structure succinctly."
   ]
  },
  {
   "cell_type": "code",
   "execution_count": null,
   "metadata": {
    "hidePrompt": true,
    "slideshow": {
     "slide_type": "subslide"
    }
   },
   "outputs": [],
   "source": [
    "class Fasta:\n",
    "    # Making our first 'dunder' (special) method\n",
    "    def __init__(self, fasta_entry):\n",
    "        \"\"\" This is called the initialization method.\n",
    "        It controls what happens when the object is instantiated,\n",
    "        or created.\n",
    "        \n",
    "        Args:\n",
    "            fasta_entry (tup): fasta entry that contains the header and sequence\n",
    "        \"\"\"\n",
    "        self.header = fasta_entry[0]\n",
    "        self.seq = fasta_entry[1]\n",
    "    \n",
    "    def __str__(self):\n",
    "        return f'{self.header}\\n{self.seq}'\n",
    "    \n",
    "    def __repr__(self):\n",
    "        return f'Fasta(Header = {self.header}, Seq = {self.seq})'"
   ]
  },
  {
   "cell_type": "code",
   "execution_count": null,
   "metadata": {
    "hidePrompt": true
   },
   "outputs": [],
   "source": [
    "fasta = Fasta(fasta_entry)\n",
    "repr(fasta)"
   ]
  },
  {
   "cell_type": "markdown",
   "metadata": {
    "slideshow": {
     "slide_type": "slide"
    }
   },
   "source": [
    "## The `__len__` method"
   ]
  },
  {
   "cell_type": "markdown",
   "metadata": {
    "slideshow": {
     "slide_type": "fragment"
    }
   },
   "source": [
    "The `__len__` method controls what happens when the `len()` function is used on an object."
   ]
  },
  {
   "cell_type": "code",
   "execution_count": null,
   "metadata": {
    "hidePrompt": true,
    "slideshow": {
     "slide_type": "subslide"
    }
   },
   "outputs": [],
   "source": [
    "class Fasta:\n",
    "    # Making our first 'dunder' (special) method\n",
    "    def __init__(self, fasta_entry):\n",
    "        \"\"\" This is called the initialization method.\n",
    "        It controls what happens when the object is instantiated,\n",
    "        or created.\n",
    "        \n",
    "        Args:\n",
    "            fasta_entry (tup): fasta entry that contains the header and sequence\n",
    "        \"\"\"\n",
    "        self.header = fasta_entry[0]\n",
    "        self.seq = fasta_entry[1]\n",
    "    \n",
    "    def __str__(self):\n",
    "        return f'{self.header}\\n{self.seq}'\n",
    "    \n",
    "    def __repr__(self):\n",
    "        return f'Fasta(Header = {self.header}, Seq = {self.seq})'\n",
    "    \n",
    "    def __len__(self):\n",
    "        return len(self.seq)"
   ]
  },
  {
   "cell_type": "code",
   "execution_count": null,
   "metadata": {
    "hidePrompt": true,
    "slideshow": {
     "slide_type": "subslide"
    }
   },
   "outputs": [],
   "source": [
    "fasta = Fasta(fasta_entry)\n",
    "len(fasta)"
   ]
  },
  {
   "cell_type": "markdown",
   "metadata": {
    "slideshow": {
     "slide_type": "slide"
    }
   },
   "source": [
    "Now that we have a solid base for `Fasta`...name things we can do with (or to) that sequence?"
   ]
  },
  {
   "cell_type": "markdown",
   "metadata": {},
   "source": [
    "1.\n",
    "2.\n",
    "3."
   ]
  },
  {
   "cell_type": "code",
   "execution_count": null,
   "metadata": {
    "hidePrompt": true,
    "slideshow": {
     "slide_type": "subslide"
    }
   },
   "outputs": [],
   "source": [
    "class Fasta:\n",
    "    # Making our first 'dunder' (special) method\n",
    "    def __init__(self, fasta_entry):\n",
    "        \"\"\" This is called the initialization method.\n",
    "        It controls what happens when the object is instantiated,\n",
    "        or created.\n",
    "        \n",
    "        Args:\n",
    "            fasta_entry (tup): fasta entry that contains the header and sequence\n",
    "        \"\"\"\n",
    "        self.header = fasta_entry[0]\n",
    "        self.seq = fasta_entry[1]\n",
    "    \n",
    "    def __str__(self):\n",
    "        return f'{self.header}\\n{self.seq}'\n",
    "    \n",
    "    def __repr__(self):\n",
    "        return f'Fasta(Header = {self.header}, Seq = {self.seq})'"
   ]
  },
  {
   "cell_type": "markdown",
   "metadata": {
    "slideshow": {
     "slide_type": "slide"
    }
   },
   "source": [
    "# Class Inheritance"
   ]
  },
  {
   "cell_type": "markdown",
   "metadata": {
    "slideshow": {
     "slide_type": "fragment"
    }
   },
   "source": [
    "Class inheritance is when one object takes/gives attributes and methods to another object upon its instantiation."
   ]
  },
  {
   "cell_type": "markdown",
   "metadata": {
    "slideshow": {
     "slide_type": "subslide"
    }
   },
   "source": [
    "![](https://koenig-media.raywenderlich.com/uploads/2017/05/ObjectOrientedProgramming-graph-2.png)"
   ]
  },
  {
   "cell_type": "markdown",
   "metadata": {
    "slideshow": {
     "slide_type": "slide"
    }
   },
   "source": [
    "# Live Demo"
   ]
  },
  {
   "cell_type": "markdown",
   "metadata": {
    "slideshow": {
     "slide_type": "slide"
    }
   },
   "source": [
    "## Let's explore class inheritance by doing something productive: making Pokemon&copy;"
   ]
  },
  {
   "cell_type": "code",
   "execution_count": null,
   "metadata": {
    "hidePrompt": true
   },
   "outputs": [],
   "source": [
    "import random\n",
    "from uuid import uuid4\n",
    "\n",
    "\n",
    "# Base class of Pokemon\n",
    "class Pokemon:\n",
    "    def __init__(self, level = 1, _type = None):\n",
    "        self.level = level\n",
    "        self.type = _type\n",
    "        self.base_hp = random.randint(33, 75)\n",
    "        self.base_attack = random.randint(33, 75)\n",
    "        self.base_defense = random.randint(33, 75)\n",
    "        self.base_sAttack = random.randint(33, 75)\n",
    "        self.base_sDefense = random.randint(33, 75)\n",
    "        self.base_speed = random.randint(33, 75)\n",
    "        self.pokemon_id = uuid4()\n",
    "    \n",
    "    def __repr__(self):\n",
    "        return f'Pokemon (Type: {self.type}, Level: {self.level})'\n",
    "\n",
    "class Electric(Pokemon):\n",
    "    def __init__(self, level = 1, _type = 'Electric'):\n",
    "        Pokemon.__init__(self, level, _type)\n",
    "        self.name = name\n",
    "        self.weak_def = ('Ground')\n",
    "        self.half_def = ('Electric', 'Flying')\n",
    "        self.strong_att = ('Flying', 'Water')\n",
    "        self.half_att = ('Dragon', 'Electric', 'Grass')\n",
    "        self.no_att = ('Ground')\n",
    "        self.immune = ('Paralyze')\n",
    "\n",
    "class Pichu(Electric):\n",
    "    def __init__(self, level = 1, name = 'Pichu'):\n",
    "        Electric.__init__(self, level)\n",
    "        self.name = name\n",
    "        \n",
    "    def __repr__(self):\n",
    "        return f'Pichu (Name: {self.name}, Type: {self.type}, Level: {self.level}, ID: {self.pokemon_id})'\n",
    "        \n",
    "    def __print__(self):\n",
    "        return f'{self.name}, Type: {self.type}, Level: {self.level}'\n",
    "    \n",
    "    def tail_whip(self):\n",
    "        ability_type = None\n",
    "        power = 1\n",
    "        accuracy = 1\n",
    "        effect = None\n",
    "        \n",
    "        return (ability_type, effect, accuracy * power * self.base_attack)\n",
    "    \n",
    "    def charm(self):\n",
    "        ability_type = 'Fairy'\n",
    "        power = 1\n",
    "        accuracy = 1\n",
    "        effect = 'Decrease_Attack'\n",
    "        \n",
    "        return (ability_type, effect, None)\n",
    "    \n",
    "    def thunder_wave(self):\n",
    "        ability_type = 'Electric'\n",
    "        power = 40\n",
    "        accuracy = 0.9\n",
    "        effect = 'Paralyze'\n",
    "        \n",
    "        return(ability_type, effect, accuracy * power * self.base_sAttack)\n",
    "    \n",
    "    \n",
    "    "
   ]
  }
 ],
 "metadata": {
  "celltoolbar": "Slideshow",
  "kernelspec": {
   "display_name": "Python 3",
   "language": "python",
   "name": "python3"
  },
  "language_info": {
   "codemirror_mode": {
    "name": "ipython",
    "version": 3
   },
   "file_extension": ".py",
   "mimetype": "text/x-python",
   "name": "python",
   "nbconvert_exporter": "python",
   "pygments_lexer": "ipython3",
   "version": "3.6.4"
  }
 },
 "nbformat": 4,
 "nbformat_minor": 2
}
