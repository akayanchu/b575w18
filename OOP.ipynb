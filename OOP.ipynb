{
 "cells": [
  {
   "cell_type": "markdown",
   "metadata": {
    "slideshow": {
     "slide_type": "slide"
    }
   },
   "source": [
    "# Object-Oriented Programming (OOP)"
   ]
  },
  {
   "cell_type": "markdown",
   "metadata": {
    "slideshow": {
     "slide_type": "fragment"
    }
   },
   "source": [
    "Whenever you code in Python, you should always have a similar questions that you ask yourself during your workflow: \"What do I have?\" and \"What do I need?\". While working on subcomponents of a function, you should always ask yourself \"What ***kind*** of object am I working with, and what does it do?\""
   ]
  },
  {
   "cell_type": "markdown",
   "metadata": {
    "slideshow": {
     "slide_type": "slide"
    }
   },
   "source": [
    "In Python, ***EVERYTHING*** is an object!"
   ]
  },
  {
   "cell_type": "code",
   "execution_count": 55,
   "metadata": {
    "hidePrompt": true,
    "slideshow": {
     "slide_type": "fragment"
    }
   },
   "outputs": [
    {
     "name": "stdout",
     "output_type": "stream",
     "text": [
      "<class 'str'> <class 'bool'> <class 'int'>\n"
     ]
    }
   ],
   "source": [
    "print(type('asdf'), type(True), type(42))"
   ]
  },
  {
   "cell_type": "markdown",
   "metadata": {
    "slideshow": {
     "slide_type": "slide"
    }
   },
   "source": [
    "## So what are objects?\n",
    "They are a data abstraction that has 2 main jobs:\n",
    "1. Captures internal *representation* of the data it is abstracting\n",
    "2. Creates an *interface* for the abstracted data"
   ]
  },
  {
   "cell_type": "code",
   "execution_count": 3,
   "metadata": {
    "hidePrompt": true,
    "slideshow": {
     "slide_type": "subslide"
    }
   },
   "outputs": [],
   "source": [
    "def no_underscore(obj: object) -> list:\n",
    "    \"\"\"Utility function to print out directory contents\n",
    "    while ignoring private (_) and special (__) methods\n",
    "    \n",
    "    Args:\n",
    "        obj (object): any object\n",
    "    \n",
    "    Returns:\n",
    "        out (list): list of directory entries without private\n",
    "                    or special methods listed.\n",
    "    \"\"\"\n",
    "    out = [i for i in dir(obj) if not i.startswith('_')]\n",
    "    return out"
   ]
  },
  {
   "cell_type": "markdown",
   "metadata": {
    "slideshow": {
     "slide_type": "subslide"
    }
   },
   "source": [
    "The purpose of objects is to *bundle* coherent data and operations, and make them accessible through a well-defined *interface*. "
   ]
  },
  {
   "cell_type": "code",
   "execution_count": null,
   "metadata": {
    "hidePrompt": true
   },
   "outputs": [],
   "source": [
    "no_underscore(str)"
   ]
  },
  {
   "cell_type": "markdown",
   "metadata": {
    "slideshow": {
     "slide_type": "slide"
    }
   },
   "source": [
    "Up to this point, we have used objects already defined for us. However, we are not limited by those boundaries, we can *make* our own objects. This is done through the `class` keyword."
   ]
  },
  {
   "cell_type": "markdown",
   "metadata": {
    "slideshow": {
     "slide_type": "subslide"
    }
   },
   "source": [
    "<center>![](https://ds055uzetaobb.cloudfront.net/image_optimizer/9996aa83f77a2837f41a4de7f2ab517168716532.png)"
   ]
  },
  {
   "cell_type": "markdown",
   "metadata": {
    "slideshow": {
     "slide_type": "subslide"
    }
   },
   "source": [
    "Using `class` is much like `def` functions. However, now we get to play around with some of those 'dunder' (\\_\\_) methods we have been steering you away from."
   ]
  },
  {
   "cell_type": "markdown",
   "metadata": {
    "slideshow": {
     "slide_type": "fragment"
    }
   },
   "source": [
    "![](https://github.com/betteridiot/b575w18/blob/master/syntax.png?raw=true)"
   ]
  },
  {
   "cell_type": "markdown",
   "metadata": {},
   "source": [
    "NOTE: As of right now, we won't be dealing with `(object)` quite yet."
   ]
  },
  {
   "cell_type": "markdown",
   "metadata": {
    "slideshow": {
     "slide_type": "subslide"
    }
   },
   "source": [
    "Let's start somewhere familiar: Jeff's `st` module. To do this, two things need to happen:\n",
    "1. Put the `st` module script in the same folder that this notebook is in\n",
    "2. Copy the `Hs_receptors.fa` script into the same folder as the notebook"
   ]
  },
  {
   "cell_type": "code",
   "execution_count": 5,
   "metadata": {
    "hidePrompt": true
   },
   "outputs": [],
   "source": [
    "import st"
   ]
  },
  {
   "cell_type": "code",
   "execution_count": 6,
   "metadata": {
    "hidePrompt": true
   },
   "outputs": [
    {
     "name": "stdout",
     "output_type": "stream",
     "text": [
      "('>P35348|ADA1A_HUMAN Alpha-1A adrenergic receptor - Homo sapiens (Human).', 'MVFLSGNASDSSNCTQPPAPVNISKAILLGVILGGLILFGVLGNILVILSVACHRHLHSVTHYYIVNLAVADLLLTSTVLPFSAIFEVLGYWAFGRVFCNIWAAVDVLCCTASIMGLCIISIDRYIGVSYPLRYPTIVTQRRGLMALLCVWALSLVISIGPLFGWRQPAPEDETICQINEEPGYVLFSALGSFYLPLAIILVMYCRVYVVAKRESRGLKSGLKTDKSDSEQVTLRIHRKNAPAGGSGMASAKTKTHFSVRLLKFSREKKAAKTLGIVVGCFVLCWLPFFLVMPIGSFFPDFKPSETVFKIVFWLGYLNSCINPIIYPCSSQEFKKAFQNVLRIQCLCRKQSSKHALGYTLHPPSQAVEGQHKDMVRIPVGSRETFYRISKTDGVCEWKFFSSMPRGSARITVSKDQSSCTTARVRSKSFLQVCCCVGPSTPSLDKNHQVPTIKVHTISLSENGEEV')\n"
     ]
    }
   ],
   "source": [
    "# Help me write the code\n",
    "\n",
    "# Open a file\n",
    "with open('Hs_receptors.fa', 'r') as f:\n",
    "    # Instantiate the generator\n",
    "    our_file = st.get_next_fasta(f)\n",
    "    # Get the First sequence for the demonstration\n",
    "    fasta_entry = next(our_file)\n",
    "print(fasta_entry)"
   ]
  },
  {
   "cell_type": "markdown",
   "metadata": {
    "slideshow": {
     "slide_type": "subslide"
    }
   },
   "source": [
    "## Let's make a `Fasta` object "
   ]
  },
  {
   "cell_type": "code",
   "execution_count": 7,
   "metadata": {
    "hidePrompt": true
   },
   "outputs": [],
   "source": [
    "class Fasta:\n",
    "    # Making our first 'dunder' (special) method\n",
    "    def __init__(self, fasta_entry):\n",
    "        \"\"\" This is called the initialization method.\n",
    "        It controls what happens when the object is instantiated,\n",
    "        or created.\n",
    "        \n",
    "        Args:\n",
    "            fasta_entry (tup): fasta entry that contains the header and sequence\n",
    "        \"\"\"\n",
    "        self.header = fasta_entry[0]\n",
    "        self.seq = fasta_entry[1]"
   ]
  },
  {
   "cell_type": "markdown",
   "metadata": {
    "slideshow": {
     "slide_type": "subslide"
    }
   },
   "source": [
    "We need to take a second to talk about 3 things real quick:\n",
    "1. Functions within `class` are called ***methods*** or procedural attributes\n",
    "2. `self.header` and `self.seq` are called ***attributes*** since they only contain data\n",
    "3. What in the world is `self`?"
   ]
  },
  {
   "cell_type": "markdown",
   "metadata": {
    "slideshow": {
     "slide_type": "subslide"
    }
   },
   "source": [
    "`self` is a parameter that allows an object to look back at its self. Specifically the current *instance* of itself. However, outside of writing the class, you will never actually have to pass the word `self` into the methods. For example:"
   ]
  },
  {
   "cell_type": "code",
   "execution_count": 8,
   "metadata": {
    "hidePrompt": true
   },
   "outputs": [],
   "source": [
    "fasta = Fasta(fasta_entry)"
   ]
  },
  {
   "cell_type": "markdown",
   "metadata": {
    "slideshow": {
     "slide_type": "fragment"
    }
   },
   "source": [
    "See, I didn't need to use `self` on the outside. Furthermore, I can do the following:"
   ]
  },
  {
   "cell_type": "code",
   "execution_count": 9,
   "metadata": {
    "hidePrompt": true
   },
   "outputs": [
    {
     "name": "stdout",
     "output_type": "stream",
     "text": [
      "Header: >P35348|ADA1A_HUMAN Alpha-1A adrenergic receptor - Homo sapiens (Human).\n"
     ]
    }
   ],
   "source": [
    "print(f'Header: {fasta.header}')"
   ]
  },
  {
   "cell_type": "markdown",
   "metadata": {
    "slideshow": {
     "slide_type": "subslide"
    }
   },
   "source": [
    "Wait, with just that, we made a new object? I don't believe you..."
   ]
  },
  {
   "cell_type": "code",
   "execution_count": 10,
   "metadata": {
    "hidePrompt": true
   },
   "outputs": [
    {
     "data": {
      "text/plain": [
       "__main__.Fasta"
      ]
     },
     "execution_count": 10,
     "metadata": {},
     "output_type": "execute_result"
    }
   ],
   "source": [
    "type(fasta)"
   ]
  },
  {
   "cell_type": "markdown",
   "metadata": {
    "slideshow": {
     "slide_type": "slide"
    }
   },
   "source": [
    "## The `__str__` method"
   ]
  },
  {
   "cell_type": "markdown",
   "metadata": {
    "slideshow": {
     "slide_type": "fragment"
    }
   },
   "source": [
    "The `__str__` method is a dunder that controls how your object prints out when `print()` is used on it."
   ]
  },
  {
   "cell_type": "code",
   "execution_count": null,
   "metadata": {},
   "outputs": [],
   "source": [
    "print(fasta)"
   ]
  },
  {
   "cell_type": "code",
   "execution_count": 12,
   "metadata": {
    "hidePrompt": true,
    "slideshow": {
     "slide_type": "subslide"
    }
   },
   "outputs": [],
   "source": [
    "class Fasta:\n",
    "    # Making our first 'dunder' (special) method\n",
    "    def __init__(self, fasta_entry):\n",
    "        \"\"\" This is called the initialization method.\n",
    "        It controls what happens when the object is instantiated,\n",
    "        or created.\n",
    "        \n",
    "        Args:\n",
    "            fasta_entry (tup): fasta entry that contains the header and sequence\n",
    "        \"\"\"\n",
    "        self.header = fasta_entry[0]\n",
    "        self.seq = fasta_entry[1]\n",
    "    \n",
    "    def __str__(self):\n",
    "        return f'{self.header}\\n{self.seq}'"
   ]
  },
  {
   "cell_type": "code",
   "execution_count": 14,
   "metadata": {
    "hidePrompt": true
   },
   "outputs": [
    {
     "data": {
      "text/plain": [
       "'<__main__.Fasta object at 0x0000016B907184A8>'"
      ]
     },
     "execution_count": 14,
     "metadata": {},
     "output_type": "execute_result"
    }
   ],
   "source": [
    "fasta = Fasta(fasta_entry)\n",
    "print(fasta)"
   ]
  },
  {
   "cell_type": "markdown",
   "metadata": {
    "slideshow": {
     "slide_type": "slide"
    }
   },
   "source": [
    "## The `__repr__` method"
   ]
  },
  {
   "cell_type": "markdown",
   "metadata": {
    "slideshow": {
     "slide_type": "fragment"
    }
   },
   "source": [
    "The `__repr__` method is similar to `__str__`, but is called when the `repr()` function is used on it. A `repr()` should represent the complete data structure succinctly."
   ]
  },
  {
   "cell_type": "code",
   "execution_count": null,
   "metadata": {},
   "outputs": [],
   "source": [
    "repr(fasta)"
   ]
  },
  {
   "cell_type": "code",
   "execution_count": 53,
   "metadata": {
    "hidePrompt": true,
    "slideshow": {
     "slide_type": "subslide"
    }
   },
   "outputs": [],
   "source": [
    "class Fasta:\n",
    "    # Making our first 'dunder' (special) method\n",
    "    def __init__(self, fasta_entry):\n",
    "        \"\"\" This is called the initialization method.\n",
    "        It controls what happens when the object is instantiated,\n",
    "        or created.\n",
    "        \n",
    "        Args:\n",
    "            fasta_entry (tup): fasta entry that contains the header and sequence\n",
    "        \"\"\"\n",
    "        self.header = fasta_entry[0]\n",
    "        self.seq = fasta_entry[1]\n",
    "    \n",
    "    def __str__(self):\n",
    "        return f'{self.header}\\n{self.seq}'\n",
    "    \n",
    "    def __repr__(self):\n",
    "        \"\"\" Should be able to copy & paste output to create near identical object\n",
    "        Fasta needs a tuple of strings: first being the header, second being the seq.\n",
    "        Therefore, I need to pass a tuple of self.header and self.string formatted\n",
    "        to make them look like strings.\n",
    "        \"\"\"\n",
    "        return f'Fasta((\"{self.header}\",\"{self.seq}\"))'"
   ]
  },
  {
   "cell_type": "code",
   "execution_count": 54,
   "metadata": {
    "hidePrompt": true
   },
   "outputs": [
    {
     "data": {
      "text/plain": [
       "'Fasta((\">P35348|ADA1A_HUMAN Alpha-1A adrenergic receptor - Homo sapiens (Human).\",\"MVFLSGNASDSSNCTQPPAPVNISKAILLGVILGGLILFGVLGNILVILSVACHRHLHSVTHYYIVNLAVADLLLTSTVLPFSAIFEVLGYWAFGRVFCNIWAAVDVLCCTASIMGLCIISIDRYIGVSYPLRYPTIVTQRRGLMALLCVWALSLVISIGPLFGWRQPAPEDETICQINEEPGYVLFSALGSFYLPLAIILVMYCRVYVVAKRESRGLKSGLKTDKSDSEQVTLRIHRKNAPAGGSGMASAKTKTHFSVRLLKFSREKKAAKTLGIVVGCFVLCWLPFFLVMPIGSFFPDFKPSETVFKIVFWLGYLNSCINPIIYPCSSQEFKKAFQNVLRIQCLCRKQSSKHALGYTLHPPSQAVEGQHKDMVRIPVGSRETFYRISKTDGVCEWKFFSSMPRGSARITVSKDQSSCTTARVRSKSFLQVCCCVGPSTPSLDKNHQVPTIKVHTISLSENGEEV\"))'"
      ]
     },
     "execution_count": 54,
     "metadata": {},
     "output_type": "execute_result"
    }
   ],
   "source": [
    "fasta = Fasta(fasta_entry)\n",
    "repr(fasta)\n",
    "\n",
    "# Copy & paste repr output to recreate fasta\n",
    "# Fasta((\">P35348|ADA1A_HUMAN Alpha-1A adrenergic receptor - Homo sapiens (Human).\",\"MVFLSGNASDSSNCTQPPAPVNISKAILLGVILGGLILFGVLGNILVILSVACHRHLHSVTHYYIVNLAVADLLLTSTVLPFSAIFEVLGYWAFGRVFCNIWAAVDVLCCTASIMGLCIISIDRYIGVSYPLRYPTIVTQRRGLMALLCVWALSLVISIGPLFGWRQPAPEDETICQINEEPGYVLFSALGSFYLPLAIILVMYCRVYVVAKRESRGLKSGLKTDKSDSEQVTLRIHRKNAPAGGSGMASAKTKTHFSVRLLKFSREKKAAKTLGIVVGCFVLCWLPFFLVMPIGSFFPDFKPSETVFKIVFWLGYLNSCINPIIYPCSSQEFKKAFQNVLRIQCLCRKQSSKHALGYTLHPPSQAVEGQHKDMVRIPVGSRETFYRISKTDGVCEWKFFSSMPRGSARITVSKDQSSCTTARVRSKSFLQVCCCVGPSTPSLDKNHQVPTIKVHTISLSENGEEV\"))"
   ]
  },
  {
   "cell_type": "markdown",
   "metadata": {
    "slideshow": {
     "slide_type": "slide"
    }
   },
   "source": [
    "## The `__len__` method"
   ]
  },
  {
   "cell_type": "markdown",
   "metadata": {
    "slideshow": {
     "slide_type": "fragment"
    }
   },
   "source": [
    "The `__len__` method controls what happens when the `len()` function is used on an object."
   ]
  },
  {
   "cell_type": "code",
   "execution_count": 27,
   "metadata": {},
   "outputs": [
    {
     "ename": "TypeError",
     "evalue": "object of type 'Fasta' has no len()",
     "output_type": "error",
     "traceback": [
      "\u001b[1;31m---------------------------------------------------------------------------\u001b[0m",
      "\u001b[1;31mTypeError\u001b[0m                                 Traceback (most recent call last)",
      "\u001b[1;32m<ipython-input-27-8ab4ba2c411b>\u001b[0m in \u001b[0;36m<module>\u001b[1;34m()\u001b[0m\n\u001b[1;32m----> 1\u001b[1;33m \u001b[0mlen\u001b[0m\u001b[1;33m(\u001b[0m\u001b[0mfasta\u001b[0m\u001b[1;33m)\u001b[0m\u001b[1;33m\u001b[0m\u001b[0m\n\u001b[0m",
      "\u001b[1;31mTypeError\u001b[0m: object of type 'Fasta' has no len()"
     ]
    }
   ],
   "source": [
    "len(fasta)"
   ]
  },
  {
   "cell_type": "code",
   "execution_count": 28,
   "metadata": {
    "hidePrompt": true,
    "slideshow": {
     "slide_type": "subslide"
    }
   },
   "outputs": [],
   "source": [
    "class Fasta:\n",
    "    # Making our first 'dunder' (special) method\n",
    "    def __init__(self, fasta_entry):\n",
    "        \"\"\" This is called the initialization method.\n",
    "        It controls what happens when the object is instantiated,\n",
    "        or created.\n",
    "        \n",
    "        Args:\n",
    "            fasta_entry (tup): fasta entry that contains the header and sequence\n",
    "        \"\"\"\n",
    "        self.header = fasta_entry[0]\n",
    "        self.seq = fasta_entry[1]\n",
    "        self.len = len(self.seq)\n",
    "    \n",
    "    def __str__(self):\n",
    "        return f'{self.header}\\n{self.seq}'\n",
    "    \n",
    "    def __repr__(self):\n",
    "        return f'Fasta(Header = {self.header}, Seq = {self.seq})'\n",
    "    \n",
    "    def __len__(self):\n",
    "        return len(self.seq)"
   ]
  },
  {
   "cell_type": "code",
   "execution_count": 29,
   "metadata": {
    "hidePrompt": true,
    "slideshow": {
     "slide_type": "subslide"
    }
   },
   "outputs": [
    {
     "data": {
      "text/plain": [
       "466"
      ]
     },
     "execution_count": 29,
     "metadata": {},
     "output_type": "execute_result"
    }
   ],
   "source": [
    "fasta = Fasta(fasta_entry)\n",
    "len(fasta)"
   ]
  },
  {
   "cell_type": "markdown",
   "metadata": {
    "slideshow": {
     "slide_type": "slide"
    }
   },
   "source": [
    "Now that we have a solid base for `Fasta`...name things we can do with (or to) that sequence?"
   ]
  },
  {
   "cell_type": "markdown",
   "metadata": {},
   "source": [
    "1. search for motif\n",
    "2. blast/compare"
   ]
  },
  {
   "cell_type": "code",
   "execution_count": 50,
   "metadata": {
    "hidePrompt": true,
    "slideshow": {
     "slide_type": "subslide"
    }
   },
   "outputs": [],
   "source": [
    "class Fasta:\n",
    "    # Making our first 'dunder' (special) method\n",
    "    def __init__(self, fasta_entry):\n",
    "        \"\"\" This is called the initialization method.\n",
    "        It controls what happens when the object is instantiated,\n",
    "        or created.\n",
    "        \n",
    "        Args:\n",
    "            fasta_entry (tup): fasta entry that contains the header and sequence\n",
    "        \"\"\"\n",
    "        self.header = fasta_entry[0]\n",
    "        self.seq = fasta_entry[1]\n",
    "    \n",
    "    def __str__(self):\n",
    "        return f'{self.header}\\n{self.seq}'\n",
    "    \n",
    "    def __repr__(self):\n",
    "        return f'Fasta(Header = {self.header}, Seq = {self.seq})'\n",
    "    \n",
    "    def __len__(self):\n",
    "        return len(self.seq)\n",
    "    \n",
    "    def search(self, pattern):\n",
    "        match = self.seq.find(pattern)\n",
    "        return match\n",
    "    \n",
    "    def __eq__(self, other):\n",
    "        if isinstance(other, Fasta):\n",
    "            return self.seq == other.seq\n",
    "        elif isinstance(other, str):\n",
    "            return self.seq == other\n",
    "        else:\n",
    "            raise TypeError('cannot match')\n",
    "            \n",
    "    "
   ]
  },
  {
   "cell_type": "code",
   "execution_count": 51,
   "metadata": {
    "slideshow": {
     "slide_type": "subslide"
    }
   },
   "outputs": [
    {
     "name": "stdout",
     "output_type": "stream",
     "text": [
      "fasta1 vs fasta1: True\n",
      "fasta1 vs fasta2: False\n",
      "fasta1 vs exact_string: False\n",
      "fasta1 vs blah: False\n",
      "fasta1.search for substring: 13\n"
     ]
    },
    {
     "ename": "TypeError",
     "evalue": "cannot match",
     "output_type": "error",
     "traceback": [
      "\u001b[1;31m---------------------------------------------------------------------------\u001b[0m",
      "\u001b[1;31mTypeError\u001b[0m                                 Traceback (most recent call last)",
      "\u001b[1;32m<ipython-input-51-2aa28ff4ecbb>\u001b[0m in \u001b[0;36m<module>\u001b[1;34m()\u001b[0m\n\u001b[0;32m     18\u001b[0m \u001b[1;33m\u001b[0m\u001b[0m\n\u001b[0;32m     19\u001b[0m \u001b[0mfoo\u001b[0m \u001b[1;33m=\u001b[0m \u001b[1;36m7\u001b[0m\u001b[1;33m\u001b[0m\u001b[0m\n\u001b[1;32m---> 20\u001b[1;33m \u001b[0mprint\u001b[0m\u001b[1;33m(\u001b[0m\u001b[1;34mf'fasta1 vs int: {fasta1 == foo}'\u001b[0m\u001b[1;33m)\u001b[0m\u001b[1;33m\u001b[0m\u001b[0m\n\u001b[0m",
      "\u001b[1;32m<ipython-input-50-7b3487c7f568>\u001b[0m in \u001b[0;36m__eq__\u001b[1;34m(self, other)\u001b[0m\n\u001b[0;32m     31\u001b[0m             \u001b[1;32mreturn\u001b[0m \u001b[0mself\u001b[0m\u001b[1;33m.\u001b[0m\u001b[0mseq\u001b[0m \u001b[1;33m==\u001b[0m \u001b[0mother\u001b[0m\u001b[1;33m\u001b[0m\u001b[0m\n\u001b[0;32m     32\u001b[0m         \u001b[1;32melse\u001b[0m\u001b[1;33m:\u001b[0m\u001b[1;33m\u001b[0m\u001b[0m\n\u001b[1;32m---> 33\u001b[1;33m             \u001b[1;32mraise\u001b[0m \u001b[0mTypeError\u001b[0m\u001b[1;33m(\u001b[0m\u001b[1;34m'cannot match'\u001b[0m\u001b[1;33m)\u001b[0m\u001b[1;33m\u001b[0m\u001b[0m\n\u001b[0m\u001b[0;32m     34\u001b[0m \u001b[1;33m\u001b[0m\u001b[0m\n\u001b[0;32m     35\u001b[0m \u001b[1;33m\u001b[0m\u001b[0m\n",
      "\u001b[1;31mTypeError\u001b[0m: cannot match"
     ]
    }
   ],
   "source": [
    "fasta1 = Fasta(fasta_entry)\n",
    "with open('Hs_receptors.fa', 'r') as fasta_file:\n",
    "    gen = st.get_next_fasta(fasta_file)\n",
    "    next(gen)\n",
    "    seq2 = next(gen)\n",
    "fasta2 = Fasta(seq2)\n",
    "print(f'fasta1 vs fasta1: {fasta1 == fasta1}')\n",
    "print(f'fasta1 vs fasta2: {fasta1 == fasta2}')\n",
    "\n",
    "exact_string = 'LCIISIDRYIGVSYPLRYPTIVTQRRGLMALLCVWALSLVISIGPLFGWRQPAPEDETICQINEEPGYVLFSALGSFYLPLAIILVMYCRVYVVAKRESRGLKSGLKTDKSDSEQVTLRIHRKNAPAGGSGMASAKTKTHFSVRLLKFSREKKAAKTLGIVVGCFVLCWLPFFLVMPIGSFFPDFKPSETVFKIVFWLGYLNSCINPIIYPCSSQEFKKAFQNVLRIQCLCRKQSSKHALGYTLHPPSQAVEGQHKDMVRIPVGSRETFYRISKTDGVCEWKFFSSMPRGSARITVSKDQSSCTTARVRSKSFLQVCCCVGPSTPSLDKNHQVPTIKVHTISLSENGEEV'\n",
    "print(f'fasta1 vs exact_string: {fasta1 == exact_string}')\n",
    "\n",
    "blah = \"CTQPPAPVNISKAILLGVILGGLILFGVLGNILV\"\n",
    "print(f'fasta1 vs blah: {fasta1 == blah}')\n",
    "\n",
    "substring = \"CTQPPAPVNISKAILLGVILGGLILFGVLGNILV\"\n",
    "print(f'fasta1.search for substring: {fasta1.search(substring)}')\n",
    "\n",
    "foo = 7\n",
    "print(f'fasta1 vs int: {fasta1 == foo}')"
   ]
  },
  {
   "cell_type": "markdown",
   "metadata": {
    "slideshow": {
     "slide_type": "slide"
    }
   },
   "source": [
    "# Class Inheritance"
   ]
  },
  {
   "cell_type": "markdown",
   "metadata": {
    "slideshow": {
     "slide_type": "fragment"
    }
   },
   "source": [
    "Class inheritance is when one object takes/gives attributes and methods to another object upon its instantiation."
   ]
  },
  {
   "attachments": {},
   "cell_type": "markdown",
   "metadata": {
    "slideshow": {
     "slide_type": "subslide"
    }
   },
   "source": [
    "![](https://static1.squarespace.com/static/588f2c7fff7c50113481bafb/t/5a8ae5b753450a65524ca5c8/1519052223085/cats.jpg?format=1000w)"
   ]
  },
  {
   "cell_type": "markdown",
   "metadata": {
    "slideshow": {
     "slide_type": "slide"
    }
   },
   "source": [
    "# Live Demo"
   ]
  },
  {
   "cell_type": "markdown",
   "metadata": {
    "slideshow": {
     "slide_type": "slide"
    }
   },
   "source": [
    "## Let's explore class inheritance by doing something productive: making Pokemon&copy;"
   ]
  },
  {
   "cell_type": "code",
   "execution_count": 44,
   "metadata": {
    "hidePrompt": true
   },
   "outputs": [],
   "source": [
    "import random\n",
    "from uuid import uuid4\n",
    "\n",
    "\n",
    "# Base class of Pokemon\n",
    "class Pokemon:\n",
    "    def __init__(self, level = 1):\n",
    "        self.level = level\n",
    "        self.base_hp = random.randint(33, 75)\n",
    "        self.base_attack = random.randint(33, 75)\n",
    "        self.base_defense = random.randint(33, 75)\n",
    "        self.base_sAttack = random.randint(33, 75)\n",
    "        self.base_sDefense = random.randint(33, 75)\n",
    "        self.base_speed = random.randint(33, 75)\n",
    "        self.pokemon_id = uuid4()\n",
    "        \n",
    "        self.current_hp = self.base_hp\n",
    "        self.exp = 0\n",
    "    \n",
    "    def __repr__(self):\n",
    "        return f'Pokemon(level = {self.level})'\n"
   ]
  },
  {
   "cell_type": "code",
   "execution_count": 43,
   "metadata": {},
   "outputs": [],
   "source": [
    "class Electric(Pokemon):\n",
    "    def __init__(self, level = 1):\n",
    "        Pokemon.__init__(self, level)\n",
    "        self.type = 'Electric'\n",
    "        self.weak_def = ('Ground')\n",
    "        self.half_def = ('Electric', 'Flying')\n",
    "        self.strong_att = ('Flying', 'Water')\n",
    "        self.half_att = ('Dragon', 'Electric', 'Grass')\n",
    "        self.no_att = ('Ground')\n",
    "        self.immune = ('Paralyze')\n",
    "        \n",
    "    def __repr__(self):\n",
    "        return (f'Electric(level={self.level})')\n"
   ]
  },
  {
   "cell_type": "code",
   "execution_count": 58,
   "metadata": {
    "scrolled": true
   },
   "outputs": [],
   "source": [
    "class Pichu(Electric):\n",
    "    def __init__(self, level = 1, name = 'Pichu'):\n",
    "        Electric.__init__(self, level)\n",
    "        self.name = name\n",
    "        \n",
    "    def __repr__(self):\n",
    "        return f'Pichu(name = {self.name}, level = {self.level})'\n",
    "        \n",
    "    def __str__(self):\n",
    "        return f'Name: {self.name}, Type: {self.type}, Level: {self.level}'\n",
    "    \n",
    "    def thunder_shock(self):\n",
    "        ability_type = 'Electric'\n",
    "        self.thunder_shock_pp = 30\n",
    "        power = 40\n",
    "        accuracy = 1\n",
    "        effect = ('Paralyze', .1)\n",
    "        \n",
    "        return (ability_type, effect, accuracy * power * self.base_sAttack)\n",
    "    \n",
    "    def charm(self):\n",
    "        ability_type = 'Fairy'\n",
    "        self.charm_pp = 20\n",
    "        power = None\n",
    "        accuracy = None\n",
    "        effect = ('Decrease_Attack', 1)\n",
    "        \n",
    "        return (ability_type, effect, None)\n",
    "    \n",
    "    def tail_whip(self):\n",
    "        if self.level >= 5:\n",
    "            ability_type = None\n",
    "            self.tail_whip_pp = 30\n",
    "            power = 1\n",
    "            accuracy = 1\n",
    "            effect = None\n",
    "\n",
    "            return (ability_type, effect, accuracy * power * self.base_attack)\n",
    "\n",
    "        else:\n",
    "            raise IndexError('Move not available yet')\n",
    "        \n",
    "    def sweet_kiss(self):\n",
    "        if self.leve >= 10:\n",
    "            ability_type = 'Fairy'\n",
    "            self.sweet_kiss_pp = 10\n",
    "            power = None\n",
    "            accuracy = None\n",
    "            effect = ('Confusion', .75)\n",
    "            \n",
    "            return (ability_type, effect, None)\n",
    "        \n",
    "        else:\n",
    "            raise IndexError('Move not available yet')\n",
    "        \n",
    "    def nasty_plot(self):\n",
    "        if self.level >= 13:\n",
    "            ability_type = 'Dark'\n",
    "            self.nasty_plot_pp = 20\n",
    "            power = None\n",
    "            accuracy = None\n",
    "            effect = ('Decrease_sAttack', 1)\n",
    "            \n",
    "            return (ability_type, effect, None)\n",
    "        else:\n",
    "            raise IndexError('Move not available yet')\n",
    "\n",
    "    def thunder_wave(self):\n",
    "        if self.level >= 18:\n",
    "            ability_type = 'Electric'\n",
    "            self.thunder_wave_pp = 20\n",
    "            power = 40\n",
    "            accuracy = 0.9\n",
    "            effect = ('Paralyze', 1)\n",
    "\n",
    "            return(ability_type, effect, accuracy * power * self.base_sAttack)\n",
    "        \n",
    "        else:\n",
    "            raise IndexError('Move not available yet')"
   ]
  }
 ],
 "metadata": {
  "celltoolbar": "Slideshow",
  "kernelspec": {
   "display_name": "Python 3",
   "language": "python",
   "name": "python3"
  },
  "language_info": {
   "codemirror_mode": {
    "name": "ipython",
    "version": 3
   },
   "file_extension": ".py",
   "mimetype": "text/x-python",
   "name": "python",
   "nbconvert_exporter": "python",
   "pygments_lexer": "ipython3",
   "version": "3.6.4"
  }
 },
 "nbformat": 4,
 "nbformat_minor": 2
}
